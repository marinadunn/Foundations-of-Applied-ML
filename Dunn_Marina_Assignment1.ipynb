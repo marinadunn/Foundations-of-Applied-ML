{
 "cells": [
  {
   "cell_type": "markdown",
   "id": "492ea07a",
   "metadata": {
    "id": "492ea07a"
   },
   "source": [
    "Marina Dunn\n",
    "\n",
    "PHYS 243: Foundations of Machine Learning\n",
    "\n",
    "Assignment 1\n",
    "\n",
    "Created 10/6/21\n",
    "\n",
    "M.S. Engineering - Data Science, UCR"
   ]
  },
  {
   "cell_type": "markdown",
   "id": "303d0253",
   "metadata": {
    "id": "303d0253"
   },
   "source": [
    "### Problem 1: Fibonacci\n",
    "\n",
    "\n",
    "Production of Fibonacci Sequence!\n",
    "Write a function that takes an integer value n, where n ∈ [0, 1, 2, 3, ...] and return the nth value in Fibonacci sequence. The function recursively and the function with for loops are both shown below. Which is faster?"
   ]
  },
  {
   "cell_type": "markdown",
   "id": "e82af5be",
   "metadata": {
    "id": "e82af5be"
   },
   "source": [
    "##### Part 1: Rewrite the function with for loop.\n",
    "\n"
   ]
  },
  {
   "cell_type": "code",
   "execution_count": 2,
   "id": "ec3f3a16",
   "metadata": {
    "id": "ec3f3a16"
   },
   "outputs": [],
   "source": [
    "import time\n",
    "import numpy as np\n",
    "import matplotlib.pyplot as plt"
   ]
  },
  {
   "cell_type": "code",
   "execution_count": 3,
   "id": "655d95dd",
   "metadata": {
    "id": "655d95dd"
   },
   "outputs": [],
   "source": [
    "# original function\n",
    "\n",
    "def fib_rec(n=0):\n",
    "    if n==0:\n",
    "        return 1\n",
    "    elif n==1:\n",
    "        return 1\n",
    "    else:\n",
    "        return fib_rec(n - 1) + fib_rec(n - 2)"
   ]
  },
  {
   "cell_type": "code",
   "execution_count": 4,
   "id": "902c4063",
   "metadata": {
    "id": "902c4063"
   },
   "outputs": [],
   "source": [
    "# re-written function with for loop\n",
    "\n",
    "def fib_for(n):\n",
    "    n1, n2 = 0, 1\n",
    "    if n == 0:\n",
    "        return 0\n",
    "    for i in range(n-1):\n",
    "        n1 = n2\n",
    "        n2 = n1 + n2    \n",
    "        return n2"
   ]
  },
  {
   "cell_type": "markdown",
   "id": "5f34313c",
   "metadata": {
    "id": "5f34313c"
   },
   "source": [
    "##### Part 2: Which function is actually faster? (Explain without running the codes)\n",
    "    \n",
    "    "
   ]
  },
  {
   "cell_type": "markdown",
   "id": "7d5ac67e",
   "metadata": {
    "id": "7d5ac67e"
   },
   "source": [
    "In this case, iteration would be faster than recursion because with recursion, the values aren't being stored and remembered, so previous values have to be calculated once again for every future 'n'. The iterative version conveniently has both of the previous values to quickly calculate the new sum from. In order for the recursive version to be more efficient, you would need to implement some step to store the previous value so it doesn't have to be re-calculated every time. "
   ]
  },
  {
   "cell_type": "markdown",
   "id": "661c0a98",
   "metadata": {
    "id": "661c0a98"
   },
   "source": [
    "##### Part 3: Write a code to time the average time for k times function call. A function that takes three arguments (function to time (Fib rec), input of the function (n), num- ber of runs(k)) and run the Fib rec function k times for the input of n and returns the average time. Tip: You can use the time module in the python.\n"
   ]
  },
  {
   "cell_type": "code",
   "execution_count": 5,
   "id": "28ffc885",
   "metadata": {
    "id": "28ffc885",
    "outputId": "970ac391-6920-447b-8b37-2cb3960bdf00"
   },
   "outputs": [
    {
     "name": "stdout",
     "output_type": "stream",
     "text": [
      "Average time for recursion: 2.759695053100586e-05 seconds\n",
      "Average time for iteration method: 5.960464477539062e-07 seconds\n"
     ]
    }
   ],
   "source": [
    "def timer1(n, k, f=fib_rec):\n",
    "    start = time.time()\n",
    "    for i in range(k):\n",
    "        f(n)\n",
    "    end = time.time()\n",
    "    average_time1 = (end - start) / k\n",
    "    return average_time1\n",
    "\n",
    "print(f'Average time for recursion: {timer1(10, 20, fib_rec)} seconds')\n",
    "\n",
    "def timer2(n, k, f=fib_for):\n",
    "    start = time.time()\n",
    "    for i in range(k):\n",
    "        f(n)\n",
    "    end = time.time()\n",
    "    average_time2 = (end - start) / k\n",
    "    return average_time2\n",
    "\n",
    "print(f'Average time for iteration method: {timer2(10, 20, fib_for)} seconds')"
   ]
  },
  {
   "cell_type": "markdown",
   "id": "2d126144",
   "metadata": {
    "id": "2d126144"
   },
   "source": [
    "#####  Part 4: Make a plot in which the x-axis is the value of the input function n and the y-axis is the average time (output of the previous function), for both recursive and non- recursive Fibonacci. (Both in the same plot; also use matplotlib package for making the plots)\n"
   ]
  },
  {
   "cell_type": "code",
   "execution_count": 6,
   "id": "b587751b",
   "metadata": {
    "id": "b587751b",
    "outputId": "e22076b8-5f7a-481c-a3e6-fb571bd9a795"
   },
   "outputs": [
    {
     "data": {
      "image/png": "[encoded data removed]",
      "text/plain": [
       "<Figure size 432x288 with 1 Axes>"
      ]
     },
     "metadata": {
      "needs_background": "light"
     },
     "output_type": "display_data"
    }
   ],
   "source": [
    "%matplotlib inline\n",
    "#plt.style.use('seaborn')\n",
    "\n",
    "n = np.arange(0,20)\n",
    "\n",
    "fib_rec_time = [timer1(i, k=50, f=fib_rec) for i in n]\n",
    "fib_for_time = [timer2(i, k=50, f=fib_for) for i in n]\n",
    "\n",
    "plt.plot(n, fib_rec_time, linewidth=2, color='red', label='Fibonacci recursion')\n",
    "plt.plot(n, fib_for_time, linewidth=2, color='blue', label='Fibonacci iteration')\n",
    "\n",
    "plt.title(r\"Average Time for Iterative v. Recursive Methods of Fibonacci Calculation\")\n",
    "\n",
    "plt.xlabel(r\"$n$\")\n",
    "plt.ylabel(r\"$Average Time$\")\n",
    "\n",
    "plt.xticks(fontsize=14)\n",
    "plt.yticks(fontsize=14)\n",
    "\n",
    "plt.legend(loc='upper left')\n",
    "plt.show()"
   ]
  },
  {
   "cell_type": "markdown",
   "id": "f78cbfff",
   "metadata": {
    "id": "f78cbfff"
   },
   "source": [
    "### Problem 2: Linear Algebra"
   ]
  },
  {
   "cell_type": "markdown",
   "id": "a1f31cce",
   "metadata": {
    "id": "a1f31cce"
   },
   "source": [
    "Given the Matrix M below answer the questions:\n",
    "\n",
    "##### Part 1: Find the determinant, transpose, inverse(if exist) for M.\n",
    "<center> M = </center>\n",
    "\n",
    "\\begin{bmatrix} \n",
    "1 & -4 & 2 \\\\\n",
    "-4 & 1 & -2\\\\\n",
    "2 & -2 & -2 \\\\\n",
    "\\end{bmatrix}\n",
    "\n",
    "How to find determinant of 3x3 matrix:\n",
    "\n",
    "<center> M = </center>\n",
    "\\begin{bmatrix} \n",
    "a & b & c \\\\\n",
    "d & e & f\\\\\n",
    "g & h & i \\\\\n",
    "\\end{bmatrix}\n",
    "<br>\n",
    "\n",
    "<center> |M| = a(ei − fh) − b(di − fg) + c(dh − eg) </center>\n"
   ]
  },
  {
   "cell_type": "code",
   "execution_count": 7,
   "id": "81503584",
   "metadata": {
    "id": "81503584",
    "outputId": "510478c6-77e0-4b05-ef6e-0f5a417f0022"
   },
   "outputs": [
    {
     "name": "stdout",
     "output_type": "stream",
     "text": [
      "Determinant of matrix M:\n",
      "54\n"
     ]
    }
   ],
   "source": [
    "# 1: Find determinant\n",
    "det_M = (1 * (1*-2 - (-2*-2)) ) - (-4 * ((-4*-2) - (-2*2))) + (2* ((-4*-2) - (1*2) ))\n",
    "print(\"Determinant of matrix M:\")\n",
    "print(int(det_M))\n"
   ]
  },
  {
   "cell_type": "code",
   "execution_count": 8,
   "id": "fe6ad348",
   "metadata": {
    "id": "fe6ad348",
    "outputId": "23fee738-649e-4830-a24b-f9fd74c52eb5"
   },
   "outputs": [
    {
     "name": "stdout",
     "output_type": "stream",
     "text": [
      "Determinant of matrix M:\n",
      "54\n"
     ]
    }
   ],
   "source": [
    "# Faster version using numpy\n",
    "M = np.array([[1, -4, 2], [-4, 1,-2],[2, -2, -2]])\n",
    "determinant = np.linalg.det(M)\n",
    "  \n",
    "print(\"Determinant of matrix M:\")\n",
    "print(int(determinant))"
   ]
  },
  {
   "cell_type": "code",
   "execution_count": 9,
   "id": "206c550e",
   "metadata": {
    "id": "206c550e",
    "outputId": "6f420a8c-b4d0-4961-cd89-882e4956cf18"
   },
   "outputs": [
    {
     "name": "stdout",
     "output_type": "stream",
     "text": [
      "Transpose of M: \n",
      "[1, -4, 2]\n",
      "[-4, 1, -2]\n",
      "[2, -2, -2]\n",
      "\n",
      " M = MT. The values have switched but appear the same. \n",
      "This means the matrix is orthogonal.\n"
     ]
    }
   ],
   "source": [
    "# 2: Find transpose, where row values and column values interchange\n",
    "# using nested list comprehension\n",
    "\n",
    "M = [[1, -4, 2], [-4, 1,-2],[2, -2, -2]]\n",
    "\n",
    "# N is the dimensions of the matrix\n",
    "N = 3\n",
    "\n",
    "MT = [[M[j][i] for j in range(N)] for i in range(N)]\n",
    "\n",
    "print(\"Transpose of M: \")\n",
    "for row in MT:\n",
    "    print(row)\n",
    "    \n",
    "print(\"\\n M = MT. The values have switched but appear the same. \\nThis means the matrix is orthogonal.\")"
   ]
  },
  {
   "cell_type": "code",
   "execution_count": 10,
   "id": "bae435c4",
   "metadata": {
    "id": "bae435c4",
    "outputId": "24c114c6-31d9-4f6e-cb4a-06bacde1dfe8"
   },
   "outputs": [
    {
     "name": "stdout",
     "output_type": "stream",
     "text": [
      "Transpose of M: \n",
      "[[ 1 -4  2]\n",
      " [-4  1 -2]\n",
      " [ 2 -2 -2]]\n"
     ]
    }
   ],
   "source": [
    "# Faster version using numpy\n",
    "M = np.array([[1, -4, 2], [-4, 1,-2],[2, -2, -2]])\n",
    "print(\"Transpose of M: \")\n",
    "print(np.transpose(M))"
   ]
  },
  {
   "cell_type": "code",
   "execution_count": 16,
   "id": "6026d082",
   "metadata": {
    "id": "6026d082"
   },
   "outputs": [],
   "source": [
    "#3: Find inverse of matrix M (if exist)"
   ]
  },
  {
   "cell_type": "markdown",
   "id": "b47ba963",
   "metadata": {
    "id": "b47ba963"
   },
   "source": [
    "inverse of M = adj(M)/det(M)\n",
    "\n",
    "determinant must not be 0\n",
    "\n",
    "1. change signs of appropriate values\n",
    "2. transpose matrix\n",
    "3. multiply by 1/det, in this case, 54\n"
   ]
  },
  {
   "cell_type": "code",
   "execution_count": 12,
   "id": "01ba779a",
   "metadata": {
    "id": "01ba779a",
    "outputId": "74b3b22c-278d-47eb-b074-cfbfc0c66513"
   },
   "outputs": [
    {
     "name": "stdout",
     "output_type": "stream",
     "text": [
      "Inverse of M: \n",
      "[[-0.11111111 -0.22222222  0.11111111]\n",
      " [-0.22222222 -0.11111111 -0.11111111]\n",
      " [ 0.11111111 -0.11111111 -0.27777778]]\n"
     ]
    }
   ],
   "source": [
    "inverse = np.linalg.inv(M)\n",
    "print(\"Inverse of M: \")\n",
    "print(inverse)"
   ]
  },
  {
   "cell_type": "markdown",
   "id": "bbeea255",
   "metadata": {
    "id": "bbeea255"
   },
   "source": [
    "##### Part 2: Find the eigenvalues and eigenvectors for M.\n",
    "##### find the values that satisfy det(M − λI) = 0?\n",
    "\n",
    "M − λI = \n",
    "\\begin{array}{ccc}1-\\lambda &-4&2\\\\-4&1-\\lambda &-2\\\\2&-2&-2-\\lambda \\end{array}\n",
    "<br>\n",
    "<center> M = </center>\n",
    "\\begin{bmatrix} \n",
    "a & b & c \\\\\n",
    "d & e & f\\\\\n",
    "g & h & i \\\\\n",
    "\\end{bmatrix}\n",
    "<br>\n",
    "\n",
    "<center> |M| = a(ei − fh) − b(di − fg) + c(dh − eg) </center>"
   ]
  },
  {
   "cell_type": "code",
   "execution_count": 13,
   "id": "f15359ae",
   "metadata": {
    "id": "f15359ae",
    "outputId": "7cac4ca5-f84c-49d1-cd12-ed1b64a3fef4"
   },
   "outputs": [
    {
     "name": "stdout",
     "output_type": "stream",
     "text": [
      "Eigenvalues: \n",
      "[-3.  6. -3.]\n",
      "\n",
      " Eigenvectors: \n",
      "[[-0.74535599 -0.66666667 -0.16169042]\n",
      " [-0.59628479  0.66666667  0.30721179]\n",
      " [ 0.2981424  -0.33333333  0.93780442]]\n"
     ]
    }
   ],
   "source": [
    "# Find eigenvalues and eigenvectors of M \n",
    "# Faster version using numpy\n",
    "from numpy import linalg as LA\n",
    "'''\n",
    "det(M - λI) = 0\n",
    "\n",
    "(1-λ)[(1-λ)(-2-λ) - (-2*-2)] + 4[(-4)*(-2-λ) - (-2*2)] + 2[(-4)(1-λ) - (1-λ)(2)] = 0\n",
    "(1-λ)[(-2-λ+2λ+λ**2) - 4] + 4[(8+λ)+4] + 2[(-4+4λ)-2+2λ] = 0\n",
    "(1-λ)(-6 + λ + λ**2) + (48 + λ) + 2(-6 + 6λ) = 0\n",
    "(-6 + λ + λ**2 + 6λ - λ**2 - λ**3) + (48 + λ) + (-12 + 12λ) = 0\n",
    "(-6 + 7λ - λ**3) + 36 + 11λ = 0\n",
    "30 + 18λ - λ**3 = 0\n",
    "\n",
    "'''\n",
    "\n",
    "M = np.array([[1, -4, 2], [-4, 1,-2],[2, -2, -2]])\n",
    "\n",
    "w, v = np.linalg.eig(M)\n",
    "print(\"Eigenvalues: \")\n",
    "print(w)\n",
    "print(\"\\n Eigenvectors: \")\n",
    "print(v)"
   ]
  },
  {
   "cell_type": "markdown",
   "id": "a64ae035",
   "metadata": {
    "id": "8dee4901"
   },
   "source": [
    "##### Part 3: Find the Gradient if the ∇Af(A) for the following:"
   ]
  },
  {
   "cell_type": "markdown",
   "id": "cfefeebf",
   "metadata": {
    "id": "cfefeebf"
   },
   "source": [
    "<center> A = </center>\n",
    "\\begin{bmatrix} \n",
    "x11 & x12 & x13 \\\\\n",
    "x21 & x22 & x23\\\\\n",
    "x31 & x32 & x33 \\\\\n",
    "\\end{bmatrix}\n",
    "<br>\n",
    "\n",
    "<center> f(A) = (x<sub>11</sub><sup>2</sup>x<sub>22</sub>x<sub>23</sub>) + (x<sub>11</sub>x<sub>12</sub>x<sub>13</sub>x<sub>31</sub>) - (x<sub>33</sub><sup>2</sup>x<sub>32</sub> x<sub>21</sub>) </center>\n",
    "\n",
    "grad f =  < df/dx<sub>11</sub>(x<sub>11</sub>,x<sub>12</sub>,x<sub>13</sub>,x<sub>21</sub>,x<sub>22</sub>,x<sub>23</sub>,x<sub>31</sub>,x<sub>32</sub>,x<sub>33</sub>), \n",
    "\n",
    "df/dx<sub>12</sub>(x<sub>11</sub>,x<sub>12</sub>,x<sub>13</sub>,x<sub>21</sub>,x<sub>22</sub>,x<sub>23</sub>,x<sub>31</sub>,x<sub>32</sub>,x<sub>33</sub>),\n",
    "\n",
    "df/dx<sub>13</sub>(x<sub>11</sub>,x<sub>12</sub>,x<sub>13</sub>,x<sub>21</sub>,x<sub>22</sub>,x<sub>23</sub>,x<sub>31</sub>,x<sub>32</sub>,x<sub>33</sub>),\n",
    "\n",
    "df/dx<sub>21</sub>(x<sub>11</sub>,x<sub>12</sub>,x<sub>13</sub>,x<sub>21</sub>,x<sub>22</sub>,x<sub>23</sub>,x<sub>31</sub>,x<sub>32</sub>,x<sub>33</sub>),\n",
    "\n",
    "df/dx<sub>22</sub>(x<sub>11</sub>,x<sub>12</sub>,x<sub>13</sub>,x<sub>21</sub>,x<sub>22</sub>,x<sub>23</sub>,x<sub>31</sub>,x<sub>32</sub>,x<sub>33</sub>),\n",
    "\n",
    "df/dx<sub>23</sub>(x<sub>11</sub>,x<sub>12</sub>,x<sub>13</sub>,x<sub>21</sub>,x<sub>22</sub>,x<sub>23</sub>,x<sub>31</sub>,x<sub>32</sub>,x<sub>33</sub>),\n",
    "\n",
    "df/dx<sub>31</sub>(x<sub>11</sub>,x<sub>12</sub>,x<sub>13</sub>,x<sub>21</sub>,x<sub>22</sub>,x<sub>23</sub>,x<sub>31</sub>,x<sub>32</sub>,x<sub>33</sub>),\n",
    "\n",
    "df/dx<sub>32</sub>(x<sub>11</sub>,x<sub>12</sub>,x<sub>13</sub>,x<sub>21</sub>,x<sub>22</sub>,x<sub>23</sub>,x<sub>31</sub>,x<sub>32</sub>,x<sub>33</sub>),\n",
    "\n",
    "df/dx<sub>33</sub>(x<sub>11</sub>,x<sub>12</sub>,x<sub>13</sub>,x<sub>21</sub>,x<sub>22</sub>,x<sub>23</sub>,x<sub>31</sub>,x<sub>32</sub>,x<sub>33</sub>) >\n",
    "\n",
    "<br>\n",
    "----------------------"
   ]
  },
  {
   "cell_type": "markdown",
   "id": "286dbc4f",
   "metadata": {
    "id": "286dbc4f"
   },
   "source": [
    "df/dx<sub>11</sub>(x<sub>11</sub>,x<sub>12</sub>,x<sub>13</sub>,x<sub>21</sub>,x<sub>22</sub>,x<sub>23</sub>,x<sub>31</sub>,x<sub>32</sub>,x<sub>33</sub>) = \n",
    "\n",
    "2 x<sub>11</sub>x<sub>12</sub>x<sub>13</sub> + x<sub>12</sub>x<sub>13</sub>x<sub>31</sub>\n",
    "\n",
    "<br>\n",
    "-------\n",
    "\n",
    "df/dx<sub>12</sub>(x<sub>11</sub>,x<sub>12</sub>,x<sub>13</sub>,x<sub>21</sub>,x<sub>22</sub>,x<sub>23</sub>,x<sub>31</sub>,x<sub>32</sub>,x<sub>33</sub>) = \n",
    "\n",
    "x<sub>11</sub>x<sub>13</sub>x<sub>31</sub>\n",
    "\n",
    "<br>\n",
    "-------\n",
    "\n",
    "df/dx<sub>13</sub>(x<sub>11</sub>,x<sub>12</sub>,x<sub>13</sub>,x<sub>21</sub>,x<sub>22</sub>,x<sub>23</sub>,x<sub>31</sub>,x<sub>32</sub>,x<sub>33</sub>) = \n",
    "\n",
    "x<sub>11</sub>x<sub>12</sub>x<sub>31</sub>\n",
    "\n",
    "<br>\n",
    "-------\n",
    "\n",
    "df/dx<sub>21</sub>(x<sub>11</sub>,x<sub>12</sub>,x<sub>13</sub>,x<sub>21</sub>,x<sub>22</sub>,x<sub>23</sub>,x<sub>31</sub>,x<sub>32</sub>,x<sub>33</sub>) = \n",
    "\n",
    "-2x<sub>33</sub>x<sub>32</sub>\n",
    "\n",
    "<br>\n",
    "-------\n",
    "\n",
    "df/dx<sub>22</sub>(x<sub>11</sub>,x<sub>12</sub>,x<sub>13</sub>,x<sub>21</sub>,x<sub>22</sub>,x<sub>23</sub>,x<sub>31</sub>,x<sub>32</sub>,x<sub>33</sub>) = \n",
    "\n",
    "2x<sub>11</sub>x<sub>23</sub>\n",
    "\n",
    "<br>\n",
    "-------\n",
    "\n",
    "df/dx<sub>23</sub>(x<sub>11</sub>,x<sub>12</sub>,x<sub>13</sub>,x<sub>21</sub>,x<sub>22</sub>,x<sub>23</sub>,x<sub>31</sub>,x<sub>32</sub>,x<sub>33</sub>) = \n",
    "\n",
    "x<sub>11</sub><sup>2</sup>x<sub>22</sub>\n",
    "\n",
    "<br>\n",
    "-------\n",
    "\n",
    "df/dx<sub>31</sub>(x<sub>11</sub>,x<sub>12</sub>,x<sub>13</sub>,x<sub>21</sub>,x<sub>22</sub>,x<sub>23</sub>,x<sub>31</sub>,x<sub>32</sub>,x<sub>33</sub>) = \n",
    "\n",
    "x<sub>11</sub>x<sub>12</sub>x<sub>13</sub>\n",
    "\n",
    "<br>\n",
    "-------\n",
    "\n",
    "df/dx<sub>32</sub>(x<sub>11</sub>,x<sub>12</sub>,x<sub>13</sub>,x<sub>21</sub>,x<sub>22</sub>,x<sub>23</sub>,x<sub>31</sub>,x<sub>32</sub>,x<sub>33</sub>) = \n",
    "\n",
    "-x<sub>33</sub><sup>2</sup>x<sub>21</sub>\n",
    "\n",
    "<br>\n",
    "-------\n",
    "\n",
    "df/dx<sub>33</sub>(x<sub>11</sub>,x<sub>12</sub>,x<sub>13</sub>,x<sub>21</sub>,x<sub>22</sub>,x<sub>23</sub>,x<sub>31</sub>,x<sub>32</sub>,x<sub>33</sub>) = \n",
    "\n",
    "-2x<sub>33</sub>x<sub>32</sub>x<sub>21</sub>\n",
    "\n",
    "<br>\n",
    "-------"
   ]
  },
  {
   "cell_type": "markdown",
   "id": "e0327b2c",
   "metadata": {
    "id": "e0327b2c"
   },
   "source": [
    "\n",
    "grad f = <2 x<sub>11</sub>x<sub>12</sub>x<sub>13</sub> + x<sub>12</sub>x<sub>13</sub>x<sub>31</sub>, x<sub>11</sub>x<sub>13</sub>x<sub>31</sub>, x<sub>11</sub>x<sub>12</sub>x<sub>31</sub>, -2x<sub>33</sub>x<sub>32</sub>, 2x<sub>11</sub>x<sub>23</sub>, x<sub>11</sub><sup>2</sup>x<sub>22</sub>, x<sub>11</sub>x<sub>12</sub>x<sub>13</sub>, -x<sub>33</sub><sup>2</sup>x<sub>21</sub>, -2x<sub>33</sub>x<sub>32</sub>x<sub>21</sub> >\n",
    "\n"
   ]
  },
  {
   "cell_type": "markdown",
   "id": "8d704424",
   "metadata": {
    "id": "8d704424"
   },
   "source": [
    "\\begin{bmatrix} \n",
    "2x11x12x13 + x12x13x31 & x11x13x31 & x11x12x31 \\\\\n",
    "-2x33x32 & 2x11x23 & x11^2x22\\\\\n",
    "x11x12x13 & -x33^2x21 & -2x33x32x21 \\\\\n",
    "\\end{bmatrix}\n",
    "<br>"
   ]
  },
  {
   "cell_type": "markdown",
   "id": "ab657608",
   "metadata": {},
   "source": [
    "##### Part 4: Find the Hessian Matrix for g(x, y, z) = x**3y + yz sin(x) + xy**2z**5"
   ]
  },
  {
   "cell_type": "code",
   "execution_count": 15,
   "id": "e244f7dc",
   "metadata": {
    "id": "e244f7dc"
   },
   "outputs": [
    {
     "data": {
      "text/plain": [
       "'\\ndg/dx = 3yx**2 + yz cos(x) + y**2z**5\\nd2g/dx2 = 6yx - yz sin(x)\\nd2g/dxdy = 3x**2 + z cos(x) + 2yz**5\\nd2g/dxdz = y cos(x) + 5y**2z**4\\n\\ndg/dy = x**3 + z sin(x) + 2xyz**5\\nd2g/dy2 = 2xz**5\\nd2g/dydx = 3x**2 + z cos(x) + 2yz**5\\nd2g/dydz = sin(x) + 10xyz**4\\n\\ndg/dz = y sin(x) + 5xy**2z**4\\nd2g/dz2 = 20xy**2z**3\\nd2g/dzdx = y cos(x) + 5y**2z**4\\nd2g/dzdy = sin(x) + 10xyz**4\\n\\nHg(x,y,z) = [[d2g/dx2, d2g/dydx, d2g/dzdx], [d2g/dxdy, d2g/dy2, d2g/dzdy], [d2g/dxdz, d2g/dydz, d2g/dz2]]\\nHg = [[6xy-yzsin(x), 3x^2+zcos(x)+2yz^5, ycos(x)+5y^2z^4], [3x^2+zcos(x)+2yz^5, 2xz^5, sin(x)+10xyz^4], [ycos(x)+5y^2z^4, sin(x)+10xyz^4, 20xy^2z^3]]\\n'"
      ]
     },
     "execution_count": 15,
     "metadata": {},
     "output_type": "execute_result"
    }
   ],
   "source": [
    "\n",
    "# take second derivatives of g(x, y, z) = x**3y + yz sin(x) + xy**2z**5\n",
    "'''\n",
    "dg/dx = 3yx**2 + yz cos(x) + y**2z**5\n",
    "d2g/dx2 = 6yx - yz sin(x)\n",
    "d2g/dxdy = 3x**2 + z cos(x) + 2yz**5\n",
    "d2g/dxdz = y cos(x) + 5y**2z**4\n",
    "\n",
    "dg/dy = x**3 + z sin(x) + 2xyz**5\n",
    "d2g/dy2 = 2xz**5\n",
    "d2g/dydx = 3x**2 + z cos(x) + 2yz**5\n",
    "d2g/dydz = sin(x) + 10xyz**4\n",
    "\n",
    "dg/dz = y sin(x) + 5xy**2z**4\n",
    "d2g/dz2 = 20xy**2z**3\n",
    "d2g/dzdx = y cos(x) + 5y**2z**4\n",
    "d2g/dzdy = sin(x) + 10xyz**4\n",
    "\n",
    "Hg(x,y,z) = [[d2g/dx2, d2g/dydx, d2g/dzdx], [d2g/dxdy, d2g/dy2, d2g/dzdy], [d2g/dxdz, d2g/dydz, d2g/dz2]]\n",
    "Hg = [[6xy-yzsin(x), 3x^2+zcos(x)+2yz^5, ycos(x)+5y^2z^4], [3x^2+zcos(x)+2yz^5, 2xz^5, sin(x)+10xyz^4], [ycos(x)+5y^2z^4, sin(x)+10xyz^4, 20xy^2z^3]]\n",
    "'''"
   ]
  },
  {
   "cell_type": "markdown",
   "id": "359415b4",
   "metadata": {
    "id": "359415b4"
   },
   "source": [
    "H(g(x,y,z)) = \n",
    "\n",
    "\\begin{bmatrix} \n",
    "6yx - yzsin(x) & 3yx^2 + zcos(x) + 2yz^5 & ycos(x) + 5xy^2z^4 \\\\\n",
    "3x^2 + zcos(x) + 2yz^5 & 2xz^5 & sin(x) + 10xyz^4 \\\\\n",
    "ycos(x) + 5y^2z^4 & sin(x) + 10xyz^4 & 20xy^2z^3 \\\\\n",
    "\\end{bmatrix}\n",
    "<br>\n"
   ]
  },
  {
   "cell_type": "markdown",
   "id": "5693fcb4",
   "metadata": {
    "id": "5693fcb4"
   },
   "source": [
    "### Problem 3: Machine Learning"
   ]
  },
  {
   "cell_type": "markdown",
   "id": "131d75cb",
   "metadata": {
    "id": "131d75cb"
   },
   "source": [
    "##### Part 1: Explain the difference between validation and test samples.\n",
    "\n",
    "In Machine Learning, once a computer has been given a large and diverse dataset to learn from, the training set, it must be tested on new data, the validation set. The validation set contains data the computer has not seen before, and is used to test the accuracy of the model and fine tune its parameters if necessary. The test set has the same purpose, testing unseen data, but is saved until last to assess the performance of the final full model."
   ]
  },
  {
   "cell_type": "markdown",
   "id": "32d490cc",
   "metadata": {
    "id": "32d490cc"
   },
   "source": [
    "##### Part 2: Explain the difference between supervised and unsupervised learning algorithm.\n",
    "\n",
    "Supervised Machine Learning involves a direct relationship between the input and output of data. The computer is learning from a labeled dataset and forming predictions within certain parameters, determining the outcome. (2 types of this: regression or classification)\n",
    "\n",
    "Unsupervised learning involves the computer receiving unlabeled data and interpolating within parameters in an attempt to detect patterns and group similar objects. The latter is more common with data of higher dimensions. (2 types: dimension reduction or clustering)\n",
    "\n"
   ]
  }
 ],
 "metadata": {
  "colab": {
   "name": "Dunn_Marina_Assignment1.ipynb",
   "provenance": []
  },
  "kernelspec": {
   "display_name": "Python 3",
   "language": "python",
   "name": "python3"
  },
  "language_info": {
   "codemirror_mode": {
    "name": "ipython",
    "version": 3
   },
   "file_extension": ".py",
   "mimetype": "text/x-python",
   "name": "python",
   "nbconvert_exporter": "python",
   "pygments_lexer": "ipython3",
   "version": "3.8.8"
  }
 },
 "nbformat": 4,
 "nbformat_minor": 5
}
