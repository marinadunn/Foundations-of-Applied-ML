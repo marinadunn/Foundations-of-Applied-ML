{
 "cells": [
  {
   "cell_type": "code",
   "execution_count": null,
   "metadata": {
    "_cell_guid": "bc64948f-5d6a-078d-085d-1beb58687bd3",
    "_uuid": "e919d1161f20999e599ba1fd66a5a45b9c82f229",
    "execution": {
     "iopub.execute_input": "2021-12-01T19:20:48.930039Z",
     "iopub.status.busy": "2021-12-01T19:20:48.929339Z",
     "iopub.status.idle": "2021-12-01T19:20:48.936609Z",
     "shell.execute_reply": "2021-12-01T19:20:48.935741Z",
     "shell.execute_reply.started": "2021-12-01T19:20:48.929926Z"
    }
   },
   "outputs": [],
   "source": [
    "#https://www.kaggle.com/mmueller/allstate-claims-severity/stacking-starter/run/390867\n",
    "#https://www.kaggle.com/arthurtok/titanic/simple-stacking-with-xgboost-0-808"
   ]
  },
  {
   "cell_type": "markdown",
   "metadata": {},
   "source": [
    "Marina Dunn\n",
    "\n",
    "PHYS 243 HW3\n",
    "\n",
    "Fall 2021\n",
    "\n",
    "Prof. Mobasher\n",
    "\n",
    "* Review kaggle notebook (https://www.kaggle.com/arthurtok/introduction-to-ensembling-stacking-in-python) from class which was created to predict the likelihood of surviving the Titanic sinking.\n",
    "\n",
    "Goal: Perform a PCA analysis on this dataset and compare the PCA feature weights with the techniques used in the notebook above."
   ]
  },
  {
   "cell_type": "code",
   "execution_count": 1,
   "metadata": {
    "_cell_guid": "14630296-b1aa-759e-bafa-b6a73f3896ed",
    "_execution_state": "idle",
    "_uuid": "2e37a274400cfeb472b6405d524325245588dd66",
    "execution": {
     "iopub.execute_input": "2021-12-05T19:09:13.722950Z",
     "iopub.status.busy": "2021-12-05T19:09:13.722475Z",
     "iopub.status.idle": "2021-12-05T19:09:14.846831Z",
     "shell.execute_reply": "2021-12-05T19:09:14.845966Z",
     "shell.execute_reply.started": "2021-12-05T19:09:13.722899Z"
    }
   },
   "outputs": [],
   "source": [
    "import pandas as pd\n",
    "import numpy as np\n",
    "import re\n",
    "import sklearn\n",
    "import xgboost as xgb\n",
    "import seaborn as sns\n",
    "import matplotlib.pyplot as plt\n",
    "%matplotlib inline\n",
    "\n",
    "import warnings\n",
    "warnings.filterwarnings('ignore')\n",
    "\n",
    "# Going to use these 5 base models for the stacking\n",
    "from sklearn.ensemble import (RandomForestClassifier, AdaBoostClassifier, \n",
    "                              GradientBoostingClassifier, ExtraTreesClassifier)\n",
    "from sklearn.svm import SVC\n",
    "from sklearn.cross_validation import KFold\n",
    "from sklearn.decomposition import PCA\n",
    "from sklearn.feature_selection import mutual_info_regression\n",
    "from sklearn.model_selection import cross_val_score\n",
    "from xgboost import XGBRegressor\n",
    "from sklearn.metrics import accuracy_score\n",
    "\n",
    "from sklearn.linear_model import LogisticRegression, SGDClassifier\n",
    "from sklearn.neighbors import KNeighborsClassifier\n",
    "from sklearn.tree import DecisionTreeClassifier\n",
    "\n",
    "def apply_pca(X, standardize=True):\n",
    "    # Standardize\n",
    "    if standardize:\n",
    "        X = (X - X.mean(axis=0)) / X.std(axis=0)\n",
    "    # Create principal components\n",
    "    pca = PCA()\n",
    "    X_pca = pca.fit_transform(X)\n",
    "    # Convert to dataframe\n",
    "    component_names = [f\"PC{i+1}\" for i in range(X_pca.shape[1])]\n",
    "    X_pca = pd.DataFrame(X_pca, columns=component_names)\n",
    "    # Create loadings\n",
    "    loadings = pd.DataFrame(\n",
    "        pca.components_.T,  # transpose the matrix of loadings\n",
    "        columns=component_names,  # so the columns are the principal components\n",
    "        index=X.columns,  # and the rows are the original features\n",
    "    )\n",
    "    return pca, X_pca, loadings"
   ]
  },
  {
   "cell_type": "code",
   "execution_count": 2,
   "metadata": {
    "_cell_guid": "5937fd72-d1ad-f678-cc82-f08a96e4cad0",
    "_execution_state": "idle",
    "_uuid": "b2ad78041b69ce13d1f41bd9bc8c93cafaf7b8ac",
    "execution": {
     "iopub.execute_input": "2021-12-05T19:09:14.848041Z",
     "iopub.status.busy": "2021-12-05T19:09:14.847803Z",
     "iopub.status.idle": "2021-12-05T19:09:14.967646Z",
     "shell.execute_reply": "2021-12-05T19:09:14.966771Z",
     "shell.execute_reply.started": "2021-12-05T19:09:14.847994Z"
    }
   },
   "outputs": [
    {
     "data": {
      "text/html": [
       "<div>\n",
       "<style scoped>\n",
       "    .dataframe tbody tr th:only-of-type {\n",
       "        vertical-align: middle;\n",
       "    }\n",
       "\n",
       "    .dataframe tbody tr th {\n",
       "        vertical-align: top;\n",
       "    }\n",
       "\n",
       "    .dataframe thead th {\n",
       "        text-align: right;\n",
       "    }\n",
       "</style>\n",
       "<table border=\"1\" class=\"dataframe\">\n",
       "  <thead>\n",
       "    <tr style=\"text-align: right;\">\n",
       "      <th></th>\n",
       "      <th>PassengerId</th>\n",
       "      <th>Survived</th>\n",
       "      <th>Pclass</th>\n",
       "      <th>Age</th>\n",
       "      <th>SibSp</th>\n",
       "      <th>Parch</th>\n",
       "      <th>Fare</th>\n",
       "    </tr>\n",
       "  </thead>\n",
       "  <tbody>\n",
       "    <tr>\n",
       "      <th>count</th>\n",
       "      <td>891.000000</td>\n",
       "      <td>891.000000</td>\n",
       "      <td>891.000000</td>\n",
       "      <td>714.000000</td>\n",
       "      <td>891.000000</td>\n",
       "      <td>891.000000</td>\n",
       "      <td>891.000000</td>\n",
       "    </tr>\n",
       "    <tr>\n",
       "      <th>mean</th>\n",
       "      <td>446.000000</td>\n",
       "      <td>0.383838</td>\n",
       "      <td>2.308642</td>\n",
       "      <td>29.699118</td>\n",
       "      <td>0.523008</td>\n",
       "      <td>0.381594</td>\n",
       "      <td>32.204208</td>\n",
       "    </tr>\n",
       "    <tr>\n",
       "      <th>std</th>\n",
       "      <td>257.353842</td>\n",
       "      <td>0.486592</td>\n",
       "      <td>0.836071</td>\n",
       "      <td>14.526497</td>\n",
       "      <td>1.102743</td>\n",
       "      <td>0.806057</td>\n",
       "      <td>49.693429</td>\n",
       "    </tr>\n",
       "    <tr>\n",
       "      <th>min</th>\n",
       "      <td>1.000000</td>\n",
       "      <td>0.000000</td>\n",
       "      <td>1.000000</td>\n",
       "      <td>0.420000</td>\n",
       "      <td>0.000000</td>\n",
       "      <td>0.000000</td>\n",
       "      <td>0.000000</td>\n",
       "    </tr>\n",
       "    <tr>\n",
       "      <th>25%</th>\n",
       "      <td>223.500000</td>\n",
       "      <td>0.000000</td>\n",
       "      <td>2.000000</td>\n",
       "      <td>20.125000</td>\n",
       "      <td>0.000000</td>\n",
       "      <td>0.000000</td>\n",
       "      <td>7.910400</td>\n",
       "    </tr>\n",
       "    <tr>\n",
       "      <th>50%</th>\n",
       "      <td>446.000000</td>\n",
       "      <td>0.000000</td>\n",
       "      <td>3.000000</td>\n",
       "      <td>28.000000</td>\n",
       "      <td>0.000000</td>\n",
       "      <td>0.000000</td>\n",
       "      <td>14.454200</td>\n",
       "    </tr>\n",
       "    <tr>\n",
       "      <th>75%</th>\n",
       "      <td>668.500000</td>\n",
       "      <td>1.000000</td>\n",
       "      <td>3.000000</td>\n",
       "      <td>38.000000</td>\n",
       "      <td>1.000000</td>\n",
       "      <td>0.000000</td>\n",
       "      <td>31.000000</td>\n",
       "    </tr>\n",
       "    <tr>\n",
       "      <th>max</th>\n",
       "      <td>891.000000</td>\n",
       "      <td>1.000000</td>\n",
       "      <td>3.000000</td>\n",
       "      <td>80.000000</td>\n",
       "      <td>8.000000</td>\n",
       "      <td>6.000000</td>\n",
       "      <td>512.329200</td>\n",
       "    </tr>\n",
       "  </tbody>\n",
       "</table>\n",
       "</div>"
      ],
      "text/plain": [
       "       PassengerId    Survived     ...           Parch        Fare\n",
       "count   891.000000  891.000000     ...      891.000000  891.000000\n",
       "mean    446.000000    0.383838     ...        0.381594   32.204208\n",
       "std     257.353842    0.486592     ...        0.806057   49.693429\n",
       "min       1.000000    0.000000     ...        0.000000    0.000000\n",
       "25%     223.500000    0.000000     ...        0.000000    7.910400\n",
       "50%     446.000000    0.000000     ...        0.000000   14.454200\n",
       "75%     668.500000    1.000000     ...        0.000000   31.000000\n",
       "max     891.000000    1.000000     ...        6.000000  512.329200\n",
       "\n",
       "[8 rows x 7 columns]"
      ]
     },
     "execution_count": 2,
     "metadata": {},
     "output_type": "execute_result"
    }
   ],
   "source": [
    "# Load in the train and test datasets\n",
    "train = pd.read_csv('../input/train.csv', header = 0, dtype={'Age': np.float64})\n",
    "test = pd.read_csv('../input/test.csv', header = 0, dtype={'Age': np.float64})\n",
    "outcome = pd.read_csv('../input/gender_submission.csv', header = 0, dtype={'Age': np.float64}) \n",
    "\n",
    "# Store our passenger ID for easy access\n",
    "PassengerId = train['PassengerId']\n",
    "PassengerId = test['PassengerId']\n",
    "\n",
    "train.describe()"
   ]
  },
  {
   "cell_type": "code",
   "execution_count": 3,
   "metadata": {
    "execution": {
     "iopub.execute_input": "2021-12-05T19:09:14.968960Z",
     "iopub.status.busy": "2021-12-05T19:09:14.968692Z",
     "iopub.status.idle": "2021-12-05T19:09:14.977889Z",
     "shell.execute_reply": "2021-12-05T19:09:14.976775Z",
     "shell.execute_reply.started": "2021-12-05T19:09:14.968922Z"
    }
   },
   "outputs": [
    {
     "data": {
      "text/plain": [
       "PassengerId      0\n",
       "Survived         0\n",
       "Pclass           0\n",
       "Name             0\n",
       "Sex              0\n",
       "Age            177\n",
       "SibSp            0\n",
       "Parch            0\n",
       "Ticket           0\n",
       "Fare             0\n",
       "Cabin          687\n",
       "Embarked         2\n",
       "dtype: int64"
      ]
     },
     "execution_count": 3,
     "metadata": {},
     "output_type": "execute_result"
    }
   ],
   "source": [
    "train.isnull().sum() \n",
    "# we are missing values for embarked, age, and cabin, so we will have to account for these"
   ]
  },
  {
   "cell_type": "code",
   "execution_count": 4,
   "metadata": {
    "execution": {
     "iopub.execute_input": "2021-12-05T19:09:14.980183Z",
     "iopub.status.busy": "2021-12-05T19:09:14.979423Z",
     "iopub.status.idle": "2021-12-05T19:09:15.000006Z",
     "shell.execute_reply": "2021-12-05T19:09:14.998945Z",
     "shell.execute_reply.started": "2021-12-05T19:09:14.980102Z"
    }
   },
   "outputs": [
    {
     "name": "stdout",
     "output_type": "stream",
     "text": [
      "<class 'pandas.core.frame.DataFrame'>\n",
      "RangeIndex: 891 entries, 0 to 890\n",
      "Data columns (total 12 columns):\n",
      "PassengerId    891 non-null int64\n",
      "Survived       891 non-null int64\n",
      "Pclass         891 non-null int64\n",
      "Name           891 non-null object\n",
      "Sex            891 non-null object\n",
      "Age            714 non-null float64\n",
      "SibSp          891 non-null int64\n",
      "Parch          891 non-null int64\n",
      "Ticket         891 non-null object\n",
      "Fare           891 non-null float64\n",
      "Cabin          204 non-null object\n",
      "Embarked       889 non-null object\n",
      "dtypes: float64(2), int64(5), object(5)\n",
      "memory usage: 83.6+ KB\n"
     ]
    }
   ],
   "source": [
    "train.info()"
   ]
  },
  {
   "cell_type": "code",
   "execution_count": 5,
   "metadata": {
    "execution": {
     "iopub.execute_input": "2021-12-05T19:09:15.001607Z",
     "iopub.status.busy": "2021-12-05T19:09:15.001205Z",
     "iopub.status.idle": "2021-12-05T19:09:15.012343Z",
     "shell.execute_reply": "2021-12-05T19:09:15.011579Z",
     "shell.execute_reply.started": "2021-12-05T19:09:15.001565Z"
    }
   },
   "outputs": [
    {
     "name": "stdout",
     "output_type": "stream",
     "text": [
      "<class 'pandas.core.frame.DataFrame'>\n",
      "RangeIndex: 418 entries, 0 to 417\n",
      "Data columns (total 11 columns):\n",
      "PassengerId    418 non-null int64\n",
      "Pclass         418 non-null int64\n",
      "Name           418 non-null object\n",
      "Sex            418 non-null object\n",
      "Age            332 non-null float64\n",
      "SibSp          418 non-null int64\n",
      "Parch          418 non-null int64\n",
      "Ticket         418 non-null object\n",
      "Fare           417 non-null float64\n",
      "Cabin          91 non-null object\n",
      "Embarked       418 non-null object\n",
      "dtypes: float64(2), int64(4), object(5)\n",
      "memory usage: 36.0+ KB\n"
     ]
    }
   ],
   "source": [
    "test.info()"
   ]
  },
  {
   "cell_type": "code",
   "execution_count": 6,
   "metadata": {
    "execution": {
     "iopub.execute_input": "2021-12-05T19:09:15.013966Z",
     "iopub.status.busy": "2021-12-05T19:09:15.013625Z",
     "iopub.status.idle": "2021-12-05T19:09:15.227216Z",
     "shell.execute_reply": "2021-12-05T19:09:15.226266Z",
     "shell.execute_reply.started": "2021-12-05T19:09:15.013914Z"
    }
   },
   "outputs": [
    {
     "data": {
      "image/png": "[encoded data removed]",
      "text/plain": [
       "<matplotlib.figure.Figure at 0x7f5460e42400>"
      ]
     },
     "metadata": {},
     "output_type": "display_data"
    }
   ],
   "source": [
    "# initial looks\n",
    "# survival distribution\n",
    "plt.figure(figsize=(8,8))\n",
    "test_plt = test.merge(outcome, on=\"PassengerId\")\n",
    "full_data = pd.concat([train, test])\n",
    "barr = plt.bar( full_data.Survived.value_counts().index,  full_data.Survived.value_counts(), alpha = 0.67, )\n",
    "plt.title('Distribution of Survival')\n",
    "plt.ylabel('Count')\n",
    "plt.xticks([0,1], ['Dead','Alive'])\n",
    "\n",
    "plt.ylim((0,650))\n",
    "barr = plt.gcf()\n",
    "plt.rcParams[\"figure.figsize\"] = (12,6)\n",
    "\n",
    "plt.show()"
   ]
  },
  {
   "cell_type": "code",
   "execution_count": 7,
   "metadata": {
    "execution": {
     "iopub.execute_input": "2021-12-05T19:09:15.229093Z",
     "iopub.status.busy": "2021-12-05T19:09:15.228647Z",
     "iopub.status.idle": "2021-12-05T19:09:15.241375Z",
     "shell.execute_reply": "2021-12-05T19:09:15.240282Z",
     "shell.execute_reply.started": "2021-12-05T19:09:15.229020Z"
    }
   },
   "outputs": [
    {
     "name": "stdout",
     "output_type": "stream",
     "text": [
      "<class 'pandas.core.frame.DataFrame'>\n",
      "RangeIndex: 891 entries, 0 to 890\n",
      "Data columns (total 12 columns):\n",
      "PassengerId    891 non-null int64\n",
      "Survived       891 non-null int64\n",
      "Pclass         891 non-null int64\n",
      "Name           891 non-null object\n",
      "Sex            891 non-null object\n",
      "Age            714 non-null float64\n",
      "SibSp          891 non-null int64\n",
      "Parch          891 non-null int64\n",
      "Ticket         891 non-null object\n",
      "Fare           891 non-null float64\n",
      "Cabin          204 non-null object\n",
      "Embarked       889 non-null object\n",
      "dtypes: float64(2), int64(5), object(5)\n",
      "memory usage: 83.6+ KB\n"
     ]
    }
   ],
   "source": [
    "X_train = train.copy()\n",
    "X_train.info()"
   ]
  },
  {
   "cell_type": "code",
   "execution_count": 8,
   "metadata": {
    "execution": {
     "iopub.execute_input": "2021-12-05T19:09:15.243450Z",
     "iopub.status.busy": "2021-12-05T19:09:15.242889Z",
     "iopub.status.idle": "2021-12-05T19:09:15.260041Z",
     "shell.execute_reply": "2021-12-05T19:09:15.259164Z",
     "shell.execute_reply.started": "2021-12-05T19:09:15.243388Z"
    }
   },
   "outputs": [
    {
     "name": "stdout",
     "output_type": "stream",
     "text": [
      "<class 'pandas.core.frame.DataFrame'>\n",
      "RangeIndex: 418 entries, 0 to 417\n",
      "Data columns (total 11 columns):\n",
      "PassengerId    418 non-null int64\n",
      "Pclass         418 non-null int64\n",
      "Name           418 non-null object\n",
      "Sex            418 non-null object\n",
      "Age            332 non-null float64\n",
      "SibSp          418 non-null int64\n",
      "Parch          418 non-null int64\n",
      "Ticket         418 non-null object\n",
      "Fare           417 non-null float64\n",
      "Cabin          91 non-null object\n",
      "Embarked       418 non-null object\n",
      "dtypes: float64(2), int64(4), object(5)\n",
      "memory usage: 36.0+ KB\n"
     ]
    }
   ],
   "source": [
    "X_test = test.copy()\n",
    "X_test.info()"
   ]
  },
  {
   "cell_type": "markdown",
   "metadata": {},
   "source": [
    "**Understanding the data**\n",
    "\n",
    "The training set contains 891 passengers, and the test set contains 418 passengers.\n",
    "The training set includes whether the passengers survived or not. By merging the test and gender_submission files, we can see the survival values for the remaining 418 passengers. There are missing values that need to be accounted for, and many factors, such as the person's name, will not be factored into whether they survived or not. We will also have to use numerical values to compare features, so string features will have to be changed to numerical values. \n",
    "\n",
    "When the Titanic sank, the common saying was that the \"women and children\" go onto the lifeboats first, so we will likely expect to see a higher survival rate in women and younger children, especially those in the wealthier classes. Because people of lower class were located further down in the ship, we suspect that there will be a lower survival rate with this class, especially men.\n",
    "\n",
    "Parameters:\n",
    "\n",
    "*Pclass: Passenger’s class, 1 being highest class, 3 being lowest class\n",
    "\n",
    "*Survived: If the individual survived (1) or died (0)\n",
    "\n",
    "*Age: Age of individual at time of Titanic event\n",
    "\n",
    "*Sex: Gender of individual\n",
    "\n",
    "*Name: Name of individual (if individual was female, lists husband's name in addition to maiden name in parentheses). Also includes title, which other's have used as a factor into survival rate\n",
    "\n",
    "*SibSp:the number of siblings/spouses \n",
    "\n",
    "*Parch: the number of children/parents\n",
    "\n",
    "*Ticket: Ticket number\n",
    "\n",
    "*Fare: Fare paid\n",
    "\n",
    "*Cabin: Cabin number onboard, first character is the deck\n",
    "\n",
    "*Embarked: Port of embarkation\n",
    "\n",
    "*PassengerId: identification number of passenger, used as our index"
   ]
  },
  {
   "cell_type": "code",
   "execution_count": 9,
   "metadata": {
    "execution": {
     "iopub.execute_input": "2021-12-05T19:09:15.261776Z",
     "iopub.status.busy": "2021-12-05T19:09:15.261312Z",
     "iopub.status.idle": "2021-12-05T19:09:15.271115Z",
     "shell.execute_reply": "2021-12-05T19:09:15.270274Z",
     "shell.execute_reply.started": "2021-12-05T19:09:15.261719Z"
    }
   },
   "outputs": [],
   "source": [
    "# fill in Embarked status, cabin, fare and age for NULL values\n",
    "# for embarked, fill with the most occurred value ( 'S' )\n",
    "\n",
    "values = {\"Embarked\": 'S', \"Cabin\": 0}\n",
    "X_train = X_train.fillna(value=values)\n",
    "X_test = X_test.fillna(value=values)"
   ]
  },
  {
   "cell_type": "code",
   "execution_count": 11,
   "metadata": {
    "execution": {
     "iopub.execute_input": "2021-12-05T19:09:57.718241Z",
     "iopub.status.busy": "2021-12-05T19:09:57.717927Z",
     "iopub.status.idle": "2021-12-05T19:09:57.736116Z",
     "shell.execute_reply": "2021-12-05T19:09:57.735259Z",
     "shell.execute_reply.started": "2021-12-05T19:09:57.718197Z"
    }
   },
   "outputs": [
    {
     "name": "stdout",
     "output_type": "stream",
     "text": [
      "<class 'pandas.core.frame.DataFrame'>\n",
      "RangeIndex: 891 entries, 0 to 890\n",
      "Data columns (total 12 columns):\n",
      "PassengerId    891 non-null int64\n",
      "Survived       891 non-null int64\n",
      "Pclass         891 non-null int64\n",
      "Name           891 non-null object\n",
      "Sex            891 non-null object\n",
      "Age            714 non-null float64\n",
      "SibSp          891 non-null int64\n",
      "Parch          891 non-null int64\n",
      "Ticket         891 non-null object\n",
      "Fare           891 non-null int64\n",
      "Cabin          891 non-null object\n",
      "Embarked       891 non-null object\n",
      "dtypes: float64(1), int64(6), object(5)\n",
      "memory usage: 83.6+ KB\n"
     ]
    }
   ],
   "source": [
    "pd.options.mode.use_inf_as_na = True # make non-filled values show as NaN to correct\n",
    "\n",
    "# fill null fare with average fare\n",
    "values = X_train.Fare.mean()\n",
    "X_train['Fare'] = X_train.Fare.fillna(values)\n",
    "X_train = X_train.astype({'Fare': 'int64'})\n",
    "X_train.info()"
   ]
  },
  {
   "cell_type": "code",
   "execution_count": 12,
   "metadata": {
    "execution": {
     "iopub.execute_input": "2021-12-05T19:09:59.101080Z",
     "iopub.status.busy": "2021-12-05T19:09:59.100728Z",
     "iopub.status.idle": "2021-12-05T19:09:59.117182Z",
     "shell.execute_reply": "2021-12-05T19:09:59.116228Z",
     "shell.execute_reply.started": "2021-12-05T19:09:59.101029Z"
    }
   },
   "outputs": [
    {
     "name": "stdout",
     "output_type": "stream",
     "text": [
      "<class 'pandas.core.frame.DataFrame'>\n",
      "RangeIndex: 418 entries, 0 to 417\n",
      "Data columns (total 11 columns):\n",
      "PassengerId    418 non-null int64\n",
      "Pclass         418 non-null int64\n",
      "Name           418 non-null object\n",
      "Sex            418 non-null object\n",
      "Age            332 non-null float64\n",
      "SibSp          418 non-null int64\n",
      "Parch          418 non-null int64\n",
      "Ticket         418 non-null object\n",
      "Fare           418 non-null int64\n",
      "Cabin          418 non-null object\n",
      "Embarked       418 non-null object\n",
      "dtypes: float64(1), int64(5), object(5)\n",
      "memory usage: 36.0+ KB\n"
     ]
    }
   ],
   "source": [
    "values = X_test.Fare.mean()\n",
    "X_test['Fare'] = X_test.Fare.fillna(values)\n",
    "X_test = X_test.astype({'Fare': 'int64'})\n",
    "X_test.info()"
   ]
  },
  {
   "cell_type": "code",
   "execution_count": 13,
   "metadata": {
    "execution": {
     "iopub.execute_input": "2021-12-05T19:10:10.351506Z",
     "iopub.status.busy": "2021-12-05T19:10:10.351193Z",
     "iopub.status.idle": "2021-12-05T19:10:10.460731Z",
     "shell.execute_reply": "2021-12-05T19:10:10.459986Z",
     "shell.execute_reply.started": "2021-12-05T19:10:10.351451Z"
    }
   },
   "outputs": [],
   "source": [
    "# for age, generate random numbers between (mean - std) and (mean + std)\n",
    "# then we categorize age into 5 range.\n",
    "age_avg = X_train['Age'].mean()\n",
    "age_std = X_train['Age'].std()\n",
    "age_null_count = X_train['Age'].isnull().sum()\n",
    "    \n",
    "age_null_random_list = np.random.randint(age_avg - age_std, age_avg + age_std, size=age_null_count)\n",
    "X_train['Age'][np.isnan(X_train['Age'])] = age_null_random_list\n",
    "X_train['Age'] = X_train['Age'].astype(int)"
   ]
  },
  {
   "cell_type": "code",
   "execution_count": 14,
   "metadata": {
    "execution": {
     "iopub.execute_input": "2021-12-05T19:10:11.332580Z",
     "iopub.status.busy": "2021-12-05T19:10:11.332262Z",
     "iopub.status.idle": "2021-12-05T19:10:11.429725Z",
     "shell.execute_reply": "2021-12-05T19:10:11.428926Z",
     "shell.execute_reply.started": "2021-12-05T19:10:11.332507Z"
    }
   },
   "outputs": [],
   "source": [
    "age_avg = X_test['Age'].mean()\n",
    "age_std = X_test['Age'].std()\n",
    "age_null_count = X_test['Age'].isnull().sum()\n",
    "    \n",
    "age_null_random_list = np.random.randint(age_avg - age_std, age_avg + age_std, size=age_null_count)\n",
    "X_test['Age'][np.isnan(X_test['Age'])] = age_null_random_list\n",
    "X_test['Age'] = X_test['Age'].astype(int)"
   ]
  },
  {
   "cell_type": "code",
   "execution_count": 15,
   "metadata": {
    "execution": {
     "iopub.execute_input": "2021-12-05T19:10:12.610357Z",
     "iopub.status.busy": "2021-12-05T19:10:12.610064Z",
     "iopub.status.idle": "2021-12-05T19:10:12.851137Z",
     "shell.execute_reply": "2021-12-05T19:10:12.850168Z",
     "shell.execute_reply.started": "2021-12-05T19:10:12.610317Z"
    }
   },
   "outputs": [
    {
     "data": {
      "image/png": "[encoded data removed]",
      "text/plain": [
       "<matplotlib.figure.Figure at 0x7f546e05b400>"
      ]
     },
     "metadata": {},
     "output_type": "display_data"
    }
   ],
   "source": [
    "# initial look of survival by age\n",
    "plt.figure(figsize=(12,6))\n",
    "full_data = pd.concat([X_train, X_test])\n",
    "sns.distplot(full_data.Age, )\n",
    "plt.title('Distribution of Passengers by Age')\n",
    "plt.show()"
   ]
  },
  {
   "cell_type": "code",
   "execution_count": 16,
   "metadata": {
    "execution": {
     "iopub.execute_input": "2021-12-05T19:10:13.996986Z",
     "iopub.status.busy": "2021-12-05T19:10:13.996635Z",
     "iopub.status.idle": "2021-12-05T19:10:14.187349Z",
     "shell.execute_reply": "2021-12-05T19:10:14.186278Z",
     "shell.execute_reply.started": "2021-12-05T19:10:13.996917Z"
    }
   },
   "outputs": [
    {
     "data": {
      "image/png": "[encoded data removed]",
      "text/plain": [
       "<matplotlib.figure.Figure at 0x7f545d421b70>"
      ]
     },
     "metadata": {},
     "output_type": "display_data"
    }
   ],
   "source": [
    "# initial look of survival by sex\n",
    "dead = full_data[full_data.Survived == 0]\n",
    "\n",
    "plt.figure(figsize = (10,7))\n",
    "plt.bar( full_data['Sex'].value_counts().index,  full_data['Sex'].value_counts(), label = 'alive', color = 'blue', alpha = 0.5 )\n",
    "plt.bar( dead['Sex'].value_counts().index,  dead['Sex'].value_counts(), label = 'dead', color = 'black', alpha = 0.5 )\n",
    "plt.legend(['Total','Died'])\n",
    "plt.title('Gender Survival Aboard the Titanic')\n",
    "plt.ylabel('# of Passengers')\n",
    "\n",
    "plt.show()"
   ]
  },
  {
   "cell_type": "code",
   "execution_count": 17,
   "metadata": {
    "execution": {
     "iopub.execute_input": "2021-12-05T19:10:14.923031Z",
     "iopub.status.busy": "2021-12-05T19:10:14.922406Z",
     "iopub.status.idle": "2021-12-05T19:10:14.929298Z",
     "shell.execute_reply": "2021-12-05T19:10:14.928306Z",
     "shell.execute_reply.started": "2021-12-05T19:10:14.922965Z"
    }
   },
   "outputs": [],
   "source": [
    "# for later\n",
    "X = full_data.copy()"
   ]
  },
  {
   "cell_type": "code",
   "execution_count": 18,
   "metadata": {
    "execution": {
     "iopub.execute_input": "2021-12-05T19:10:15.792820Z",
     "iopub.status.busy": "2021-12-05T19:10:15.792518Z",
     "iopub.status.idle": "2021-12-05T19:10:15.808268Z",
     "shell.execute_reply": "2021-12-05T19:10:15.807246Z",
     "shell.execute_reply.started": "2021-12-05T19:10:15.792757Z"
    }
   },
   "outputs": [],
   "source": [
    "X_train['CategoricalAge'] = pd.cut(X_train['Age'], 5)\n",
    "X_test['CategoricalAge'] = pd.cut(X_test['Age'], 5)"
   ]
  },
  {
   "cell_type": "code",
   "execution_count": 19,
   "metadata": {
    "execution": {
     "iopub.execute_input": "2021-12-05T19:10:17.189397Z",
     "iopub.status.busy": "2021-12-05T19:10:17.188767Z",
     "iopub.status.idle": "2021-12-05T19:10:17.201998Z",
     "shell.execute_reply": "2021-12-05T19:10:17.201070Z",
     "shell.execute_reply.started": "2021-12-05T19:10:17.189314Z"
    }
   },
   "outputs": [
    {
     "name": "stdout",
     "output_type": "stream",
     "text": [
      "<class 'pandas.core.frame.DataFrame'>\n",
      "RangeIndex: 891 entries, 0 to 890\n",
      "Data columns (total 13 columns):\n",
      "PassengerId       891 non-null int64\n",
      "Survived          891 non-null int64\n",
      "Pclass            891 non-null int64\n",
      "Name              891 non-null object\n",
      "Sex               891 non-null object\n",
      "Age               891 non-null int64\n",
      "SibSp             891 non-null int64\n",
      "Parch             891 non-null int64\n",
      "Ticket            891 non-null object\n",
      "Fare              891 non-null int64\n",
      "Cabin             891 non-null object\n",
      "Embarked          891 non-null object\n",
      "CategoricalAge    891 non-null category\n",
      "dtypes: category(1), int64(7), object(5)\n",
      "memory usage: 84.6+ KB\n"
     ]
    }
   ],
   "source": [
    "X_train.info()"
   ]
  },
  {
   "cell_type": "code",
   "execution_count": 20,
   "metadata": {
    "execution": {
     "iopub.execute_input": "2021-12-05T19:10:17.936566Z",
     "iopub.status.busy": "2021-12-05T19:10:17.936229Z",
     "iopub.status.idle": "2021-12-05T19:10:17.947531Z",
     "shell.execute_reply": "2021-12-05T19:10:17.946274Z",
     "shell.execute_reply.started": "2021-12-05T19:10:17.936497Z"
    }
   },
   "outputs": [
    {
     "name": "stdout",
     "output_type": "stream",
     "text": [
      "<class 'pandas.core.frame.DataFrame'>\n",
      "RangeIndex: 418 entries, 0 to 417\n",
      "Data columns (total 12 columns):\n",
      "PassengerId       418 non-null int64\n",
      "Pclass            418 non-null int64\n",
      "Name              418 non-null object\n",
      "Sex               418 non-null object\n",
      "Age               418 non-null int64\n",
      "SibSp             418 non-null int64\n",
      "Parch             418 non-null int64\n",
      "Ticket            418 non-null object\n",
      "Fare              418 non-null int64\n",
      "Cabin             418 non-null object\n",
      "Embarked          418 non-null object\n",
      "CategoricalAge    418 non-null category\n",
      "dtypes: category(1), int64(6), object(5)\n",
      "memory usage: 36.5+ KB\n"
     ]
    }
   ],
   "source": [
    "X_test.info()"
   ]
  },
  {
   "cell_type": "code",
   "execution_count": 21,
   "metadata": {
    "execution": {
     "iopub.execute_input": "2021-12-05T19:10:18.821370Z",
     "iopub.status.busy": "2021-12-05T19:10:18.820882Z",
     "iopub.status.idle": "2021-12-05T19:10:18.825100Z",
     "shell.execute_reply": "2021-12-05T19:10:18.824163Z",
     "shell.execute_reply.started": "2021-12-05T19:10:18.821315Z"
    }
   },
   "outputs": [],
   "source": [
    "# Because numerical values are required in order to do PCA, we will have to change some\n",
    "# columns into numerical types before performing it"
   ]
  },
  {
   "cell_type": "code",
   "execution_count": 22,
   "metadata": {
    "_cell_guid": "e85b2a80-88a4-928f-f2b2-24895dea38f3",
    "_execution_state": "idle",
    "_uuid": "b1c67249f91768ce8e5e2751364d32c87446cf55",
    "execution": {
     "iopub.execute_input": "2021-12-05T19:10:20.037406Z",
     "iopub.status.busy": "2021-12-05T19:10:20.036839Z",
     "iopub.status.idle": "2021-12-05T19:10:20.053125Z",
     "shell.execute_reply": "2021-12-05T19:10:20.052296Z",
     "shell.execute_reply.started": "2021-12-05T19:10:20.037357Z"
    }
   },
   "outputs": [],
   "source": [
    "# Mapping Sex\n",
    "X_train['Sex'] = X_train['Sex'].map( {'female': 0, 'male': 1} ).astype(int)\n",
    "X_test['Sex'] = X_test['Sex'].map( {'female': 0, 'male': 1} ).astype(int)\n",
    "\n",
    "# Mapping Embarked\n",
    "X_train['Embarked'] = X_train['Embarked'].map( {'S': 0, 'C': 1, 'Q': 2} ).astype(int)\n",
    "X_test['Embarked'] = X_test['Embarked'].map( {'S': 0, 'C': 1, 'Q': 2} ).astype(int)"
   ]
  },
  {
   "cell_type": "code",
   "execution_count": 23,
   "metadata": {
    "_cell_guid": "e85b2a80-88a4-928f-f2b2-24895dea38f3",
    "_execution_state": "idle",
    "_uuid": "b1c67249f91768ce8e5e2751364d32c87446cf55",
    "execution": {
     "iopub.execute_input": "2021-12-05T19:10:20.917209Z",
     "iopub.status.busy": "2021-12-05T19:10:20.916876Z",
     "iopub.status.idle": "2021-12-05T19:10:21.062054Z",
     "shell.execute_reply": "2021-12-05T19:10:21.061244Z",
     "shell.execute_reply.started": "2021-12-05T19:10:20.917148Z"
    }
   },
   "outputs": [
    {
     "name": "stdout",
     "output_type": "stream",
     "text": [
      "<class 'pandas.core.frame.DataFrame'>\n",
      "RangeIndex: 891 entries, 0 to 890\n",
      "Data columns (total 13 columns):\n",
      "PassengerId       891 non-null int64\n",
      "Survived          891 non-null int64\n",
      "Pclass            891 non-null int64\n",
      "Name              891 non-null object\n",
      "Sex               891 non-null int64\n",
      "Age               891 non-null int64\n",
      "SibSp             891 non-null int64\n",
      "Parch             891 non-null int64\n",
      "Ticket            891 non-null object\n",
      "Fare              891 non-null int64\n",
      "Cabin             891 non-null object\n",
      "Embarked          891 non-null int64\n",
      "CategoricalAge    891 non-null category\n",
      "dtypes: category(1), int64(9), object(3)\n",
      "memory usage: 84.6+ KB\n",
      "<class 'pandas.core.frame.DataFrame'>\n",
      "RangeIndex: 418 entries, 0 to 417\n",
      "Data columns (total 12 columns):\n",
      "PassengerId       418 non-null int64\n",
      "Pclass            418 non-null int64\n",
      "Name              418 non-null object\n",
      "Sex               418 non-null int64\n",
      "Age               418 non-null int64\n",
      "SibSp             418 non-null int64\n",
      "Parch             418 non-null int64\n",
      "Ticket            418 non-null object\n",
      "Fare              418 non-null int64\n",
      "Cabin             418 non-null object\n",
      "Embarked          418 non-null int64\n",
      "CategoricalAge    418 non-null category\n",
      "dtypes: category(1), int64(8), object(3)\n",
      "memory usage: 36.5+ KB\n"
     ]
    }
   ],
   "source": [
    "# Mapping Fare\n",
    "X_train.loc[ X_train['Fare'] <= 7.91, 'Fare'] = 0\n",
    "X_train.loc[(X_train['Fare'] > 7.91) & (X_train['Fare'] <= 14.454), 'Fare'] = 1\n",
    "X_train.loc[(X_train['Fare'] > 14.454) & (X_train['Fare'] <= 31), 'Fare'] = 2\n",
    "X_train.loc[ X_train['Fare'] > 31, 'Fare'] = 3\n",
    "\n",
    "X_test.loc[ X_test['Fare'] <= 7.91, 'Fare'] = 0\n",
    "X_test.loc[(X_test['Fare'] > 7.91) & (X_test['Fare'] <= 14.454), 'Fare'] = 1\n",
    "X_test.loc[(X_test['Fare'] > 14.454) & (X_test['Fare'] <= 31), 'Fare'] = 2\n",
    "X_test.loc[ X_test['Fare'] > 31, 'Fare'] = 3\n",
    "    \n",
    "# Mapping Age, generate random numbers between (mean - std) and (mean + std). \n",
    "# then categorize age into 5 range.\n",
    "X_train.loc[ X_train['Age'] <= 16, 'Age'] = 0\n",
    "X_train.loc[(X_train['Age'] > 16) & (X_train['Age'] <= 32), 'Age'] = 1\n",
    "X_train.loc[(X_train['Age'] > 32) & (X_train['Age'] <= 48), 'Age'] = 2\n",
    "X_train.loc[(X_train['Age'] > 48) & (X_train['Age'] <= 64), 'Age'] = 3\n",
    "X_train.loc[ X_train['Age'] > 64, 'Age'] = 4\n",
    "X_train.info()\n",
    "\n",
    "X_test.loc[X_test['Age'] <= 16, 'Age'] = 0\n",
    "X_test.loc[(X_test['Age'] > 16) & (X_test['Age'] <= 32), 'Age'] = 1\n",
    "X_test.loc[(X_test['Age'] > 32) & (X_test['Age'] <= 48), 'Age'] = 2\n",
    "X_test.loc[(X_test['Age'] > 48) & (X_test['Age'] <= 64), 'Age'] = 3\n",
    "X_test.loc[ X_test['Age'] > 64, 'Age'] = 4\n",
    "X_test.info()"
   ]
  },
  {
   "cell_type": "code",
   "execution_count": 24,
   "metadata": {
    "execution": {
     "iopub.execute_input": "2021-12-05T19:10:22.017969Z",
     "iopub.status.busy": "2021-12-05T19:10:22.017647Z",
     "iopub.status.idle": "2021-12-05T19:10:22.023622Z",
     "shell.execute_reply": "2021-12-05T19:10:22.022675Z",
     "shell.execute_reply.started": "2021-12-05T19:10:22.017916Z"
    }
   },
   "outputs": [],
   "source": [
    "y_train = X_train['Survived']\n",
    "frame = {\"Survived\": y_train}\n",
    "y_train = pd.DataFrame(frame)"
   ]
  },
  {
   "cell_type": "code",
   "execution_count": 25,
   "metadata": {
    "_cell_guid": "8fc645ba-4b38-cea7-17b3-02175cb103d9",
    "_execution_state": "idle",
    "_uuid": "ca2d48b03d45f914db2ee9ae3ee95aad8fb20431",
    "execution": {
     "iopub.execute_input": "2021-12-05T19:10:22.918592Z",
     "iopub.status.busy": "2021-12-05T19:10:22.917985Z",
     "iopub.status.idle": "2021-12-05T19:10:22.964175Z",
     "shell.execute_reply": "2021-12-05T19:10:22.963313Z",
     "shell.execute_reply.started": "2021-12-05T19:10:22.918545Z"
    }
   },
   "outputs": [
    {
     "data": {
      "text/html": [
       "<div>\n",
       "<style scoped>\n",
       "    .dataframe tbody tr th:only-of-type {\n",
       "        vertical-align: middle;\n",
       "    }\n",
       "\n",
       "    .dataframe tbody tr th {\n",
       "        vertical-align: top;\n",
       "    }\n",
       "\n",
       "    .dataframe thead th {\n",
       "        text-align: right;\n",
       "    }\n",
       "</style>\n",
       "<table border=\"1\" class=\"dataframe\">\n",
       "  <thead>\n",
       "    <tr style=\"text-align: right;\">\n",
       "      <th></th>\n",
       "      <th>Pclass</th>\n",
       "      <th>Sex</th>\n",
       "      <th>Age</th>\n",
       "      <th>SibSp</th>\n",
       "      <th>Parch</th>\n",
       "      <th>Fare</th>\n",
       "      <th>Embarked</th>\n",
       "    </tr>\n",
       "  </thead>\n",
       "  <tbody>\n",
       "    <tr>\n",
       "      <th>0</th>\n",
       "      <td>3</td>\n",
       "      <td>1</td>\n",
       "      <td>1</td>\n",
       "      <td>1</td>\n",
       "      <td>0</td>\n",
       "      <td>0</td>\n",
       "      <td>0</td>\n",
       "    </tr>\n",
       "    <tr>\n",
       "      <th>1</th>\n",
       "      <td>1</td>\n",
       "      <td>0</td>\n",
       "      <td>2</td>\n",
       "      <td>1</td>\n",
       "      <td>0</td>\n",
       "      <td>3</td>\n",
       "      <td>1</td>\n",
       "    </tr>\n",
       "    <tr>\n",
       "      <th>2</th>\n",
       "      <td>3</td>\n",
       "      <td>0</td>\n",
       "      <td>1</td>\n",
       "      <td>0</td>\n",
       "      <td>0</td>\n",
       "      <td>0</td>\n",
       "      <td>0</td>\n",
       "    </tr>\n",
       "    <tr>\n",
       "      <th>3</th>\n",
       "      <td>1</td>\n",
       "      <td>0</td>\n",
       "      <td>2</td>\n",
       "      <td>1</td>\n",
       "      <td>0</td>\n",
       "      <td>3</td>\n",
       "      <td>0</td>\n",
       "    </tr>\n",
       "    <tr>\n",
       "      <th>4</th>\n",
       "      <td>3</td>\n",
       "      <td>1</td>\n",
       "      <td>2</td>\n",
       "      <td>0</td>\n",
       "      <td>0</td>\n",
       "      <td>1</td>\n",
       "      <td>0</td>\n",
       "    </tr>\n",
       "    <tr>\n",
       "      <th>5</th>\n",
       "      <td>3</td>\n",
       "      <td>1</td>\n",
       "      <td>1</td>\n",
       "      <td>0</td>\n",
       "      <td>0</td>\n",
       "      <td>1</td>\n",
       "      <td>2</td>\n",
       "    </tr>\n",
       "    <tr>\n",
       "      <th>6</th>\n",
       "      <td>1</td>\n",
       "      <td>1</td>\n",
       "      <td>3</td>\n",
       "      <td>0</td>\n",
       "      <td>0</td>\n",
       "      <td>3</td>\n",
       "      <td>0</td>\n",
       "    </tr>\n",
       "    <tr>\n",
       "      <th>7</th>\n",
       "      <td>3</td>\n",
       "      <td>1</td>\n",
       "      <td>0</td>\n",
       "      <td>3</td>\n",
       "      <td>1</td>\n",
       "      <td>2</td>\n",
       "      <td>0</td>\n",
       "    </tr>\n",
       "    <tr>\n",
       "      <th>8</th>\n",
       "      <td>3</td>\n",
       "      <td>0</td>\n",
       "      <td>1</td>\n",
       "      <td>0</td>\n",
       "      <td>2</td>\n",
       "      <td>1</td>\n",
       "      <td>0</td>\n",
       "    </tr>\n",
       "    <tr>\n",
       "      <th>9</th>\n",
       "      <td>2</td>\n",
       "      <td>0</td>\n",
       "      <td>0</td>\n",
       "      <td>1</td>\n",
       "      <td>0</td>\n",
       "      <td>2</td>\n",
       "      <td>1</td>\n",
       "    </tr>\n",
       "    <tr>\n",
       "      <th>10</th>\n",
       "      <td>3</td>\n",
       "      <td>0</td>\n",
       "      <td>0</td>\n",
       "      <td>1</td>\n",
       "      <td>1</td>\n",
       "      <td>2</td>\n",
       "      <td>0</td>\n",
       "    </tr>\n",
       "    <tr>\n",
       "      <th>11</th>\n",
       "      <td>1</td>\n",
       "      <td>0</td>\n",
       "      <td>3</td>\n",
       "      <td>0</td>\n",
       "      <td>0</td>\n",
       "      <td>2</td>\n",
       "      <td>0</td>\n",
       "    </tr>\n",
       "    <tr>\n",
       "      <th>12</th>\n",
       "      <td>3</td>\n",
       "      <td>1</td>\n",
       "      <td>1</td>\n",
       "      <td>0</td>\n",
       "      <td>0</td>\n",
       "      <td>1</td>\n",
       "      <td>0</td>\n",
       "    </tr>\n",
       "    <tr>\n",
       "      <th>13</th>\n",
       "      <td>3</td>\n",
       "      <td>1</td>\n",
       "      <td>2</td>\n",
       "      <td>1</td>\n",
       "      <td>5</td>\n",
       "      <td>2</td>\n",
       "      <td>0</td>\n",
       "    </tr>\n",
       "    <tr>\n",
       "      <th>14</th>\n",
       "      <td>3</td>\n",
       "      <td>0</td>\n",
       "      <td>0</td>\n",
       "      <td>0</td>\n",
       "      <td>0</td>\n",
       "      <td>0</td>\n",
       "      <td>0</td>\n",
       "    </tr>\n",
       "    <tr>\n",
       "      <th>15</th>\n",
       "      <td>2</td>\n",
       "      <td>0</td>\n",
       "      <td>3</td>\n",
       "      <td>0</td>\n",
       "      <td>0</td>\n",
       "      <td>2</td>\n",
       "      <td>0</td>\n",
       "    </tr>\n",
       "    <tr>\n",
       "      <th>16</th>\n",
       "      <td>3</td>\n",
       "      <td>1</td>\n",
       "      <td>0</td>\n",
       "      <td>4</td>\n",
       "      <td>1</td>\n",
       "      <td>2</td>\n",
       "      <td>2</td>\n",
       "    </tr>\n",
       "    <tr>\n",
       "      <th>17</th>\n",
       "      <td>2</td>\n",
       "      <td>1</td>\n",
       "      <td>2</td>\n",
       "      <td>0</td>\n",
       "      <td>0</td>\n",
       "      <td>1</td>\n",
       "      <td>0</td>\n",
       "    </tr>\n",
       "    <tr>\n",
       "      <th>18</th>\n",
       "      <td>3</td>\n",
       "      <td>0</td>\n",
       "      <td>1</td>\n",
       "      <td>1</td>\n",
       "      <td>0</td>\n",
       "      <td>2</td>\n",
       "      <td>0</td>\n",
       "    </tr>\n",
       "    <tr>\n",
       "      <th>19</th>\n",
       "      <td>3</td>\n",
       "      <td>0</td>\n",
       "      <td>1</td>\n",
       "      <td>0</td>\n",
       "      <td>0</td>\n",
       "      <td>0</td>\n",
       "      <td>1</td>\n",
       "    </tr>\n",
       "    <tr>\n",
       "      <th>20</th>\n",
       "      <td>2</td>\n",
       "      <td>1</td>\n",
       "      <td>2</td>\n",
       "      <td>0</td>\n",
       "      <td>0</td>\n",
       "      <td>2</td>\n",
       "      <td>0</td>\n",
       "    </tr>\n",
       "    <tr>\n",
       "      <th>21</th>\n",
       "      <td>2</td>\n",
       "      <td>1</td>\n",
       "      <td>2</td>\n",
       "      <td>0</td>\n",
       "      <td>0</td>\n",
       "      <td>1</td>\n",
       "      <td>0</td>\n",
       "    </tr>\n",
       "    <tr>\n",
       "      <th>22</th>\n",
       "      <td>3</td>\n",
       "      <td>0</td>\n",
       "      <td>0</td>\n",
       "      <td>0</td>\n",
       "      <td>0</td>\n",
       "      <td>1</td>\n",
       "      <td>2</td>\n",
       "    </tr>\n",
       "    <tr>\n",
       "      <th>23</th>\n",
       "      <td>1</td>\n",
       "      <td>1</td>\n",
       "      <td>1</td>\n",
       "      <td>0</td>\n",
       "      <td>0</td>\n",
       "      <td>3</td>\n",
       "      <td>0</td>\n",
       "    </tr>\n",
       "    <tr>\n",
       "      <th>24</th>\n",
       "      <td>3</td>\n",
       "      <td>0</td>\n",
       "      <td>0</td>\n",
       "      <td>3</td>\n",
       "      <td>1</td>\n",
       "      <td>2</td>\n",
       "      <td>0</td>\n",
       "    </tr>\n",
       "    <tr>\n",
       "      <th>25</th>\n",
       "      <td>3</td>\n",
       "      <td>0</td>\n",
       "      <td>2</td>\n",
       "      <td>1</td>\n",
       "      <td>5</td>\n",
       "      <td>2</td>\n",
       "      <td>0</td>\n",
       "    </tr>\n",
       "    <tr>\n",
       "      <th>26</th>\n",
       "      <td>3</td>\n",
       "      <td>1</td>\n",
       "      <td>1</td>\n",
       "      <td>0</td>\n",
       "      <td>0</td>\n",
       "      <td>0</td>\n",
       "      <td>1</td>\n",
       "    </tr>\n",
       "    <tr>\n",
       "      <th>27</th>\n",
       "      <td>1</td>\n",
       "      <td>1</td>\n",
       "      <td>1</td>\n",
       "      <td>3</td>\n",
       "      <td>2</td>\n",
       "      <td>3</td>\n",
       "      <td>0</td>\n",
       "    </tr>\n",
       "    <tr>\n",
       "      <th>28</th>\n",
       "      <td>3</td>\n",
       "      <td>0</td>\n",
       "      <td>1</td>\n",
       "      <td>0</td>\n",
       "      <td>0</td>\n",
       "      <td>0</td>\n",
       "      <td>2</td>\n",
       "    </tr>\n",
       "    <tr>\n",
       "      <th>29</th>\n",
       "      <td>3</td>\n",
       "      <td>1</td>\n",
       "      <td>1</td>\n",
       "      <td>0</td>\n",
       "      <td>0</td>\n",
       "      <td>0</td>\n",
       "      <td>0</td>\n",
       "    </tr>\n",
       "    <tr>\n",
       "      <th>...</th>\n",
       "      <td>...</td>\n",
       "      <td>...</td>\n",
       "      <td>...</td>\n",
       "      <td>...</td>\n",
       "      <td>...</td>\n",
       "      <td>...</td>\n",
       "      <td>...</td>\n",
       "    </tr>\n",
       "    <tr>\n",
       "      <th>861</th>\n",
       "      <td>2</td>\n",
       "      <td>1</td>\n",
       "      <td>1</td>\n",
       "      <td>1</td>\n",
       "      <td>0</td>\n",
       "      <td>1</td>\n",
       "      <td>0</td>\n",
       "    </tr>\n",
       "    <tr>\n",
       "      <th>862</th>\n",
       "      <td>1</td>\n",
       "      <td>0</td>\n",
       "      <td>2</td>\n",
       "      <td>0</td>\n",
       "      <td>0</td>\n",
       "      <td>2</td>\n",
       "      <td>0</td>\n",
       "    </tr>\n",
       "    <tr>\n",
       "      <th>863</th>\n",
       "      <td>3</td>\n",
       "      <td>0</td>\n",
       "      <td>1</td>\n",
       "      <td>8</td>\n",
       "      <td>2</td>\n",
       "      <td>3</td>\n",
       "      <td>0</td>\n",
       "    </tr>\n",
       "    <tr>\n",
       "      <th>864</th>\n",
       "      <td>2</td>\n",
       "      <td>1</td>\n",
       "      <td>1</td>\n",
       "      <td>0</td>\n",
       "      <td>0</td>\n",
       "      <td>1</td>\n",
       "      <td>0</td>\n",
       "    </tr>\n",
       "    <tr>\n",
       "      <th>865</th>\n",
       "      <td>2</td>\n",
       "      <td>0</td>\n",
       "      <td>2</td>\n",
       "      <td>0</td>\n",
       "      <td>0</td>\n",
       "      <td>1</td>\n",
       "      <td>0</td>\n",
       "    </tr>\n",
       "    <tr>\n",
       "      <th>866</th>\n",
       "      <td>2</td>\n",
       "      <td>0</td>\n",
       "      <td>1</td>\n",
       "      <td>1</td>\n",
       "      <td>0</td>\n",
       "      <td>1</td>\n",
       "      <td>1</td>\n",
       "    </tr>\n",
       "    <tr>\n",
       "      <th>867</th>\n",
       "      <td>1</td>\n",
       "      <td>1</td>\n",
       "      <td>1</td>\n",
       "      <td>0</td>\n",
       "      <td>0</td>\n",
       "      <td>3</td>\n",
       "      <td>0</td>\n",
       "    </tr>\n",
       "    <tr>\n",
       "      <th>868</th>\n",
       "      <td>3</td>\n",
       "      <td>1</td>\n",
       "      <td>1</td>\n",
       "      <td>0</td>\n",
       "      <td>0</td>\n",
       "      <td>1</td>\n",
       "      <td>0</td>\n",
       "    </tr>\n",
       "    <tr>\n",
       "      <th>869</th>\n",
       "      <td>3</td>\n",
       "      <td>1</td>\n",
       "      <td>0</td>\n",
       "      <td>1</td>\n",
       "      <td>1</td>\n",
       "      <td>1</td>\n",
       "      <td>0</td>\n",
       "    </tr>\n",
       "    <tr>\n",
       "      <th>870</th>\n",
       "      <td>3</td>\n",
       "      <td>1</td>\n",
       "      <td>1</td>\n",
       "      <td>0</td>\n",
       "      <td>0</td>\n",
       "      <td>0</td>\n",
       "      <td>0</td>\n",
       "    </tr>\n",
       "    <tr>\n",
       "      <th>871</th>\n",
       "      <td>1</td>\n",
       "      <td>0</td>\n",
       "      <td>2</td>\n",
       "      <td>1</td>\n",
       "      <td>1</td>\n",
       "      <td>3</td>\n",
       "      <td>0</td>\n",
       "    </tr>\n",
       "    <tr>\n",
       "      <th>872</th>\n",
       "      <td>1</td>\n",
       "      <td>1</td>\n",
       "      <td>2</td>\n",
       "      <td>0</td>\n",
       "      <td>0</td>\n",
       "      <td>0</td>\n",
       "      <td>0</td>\n",
       "    </tr>\n",
       "    <tr>\n",
       "      <th>873</th>\n",
       "      <td>3</td>\n",
       "      <td>1</td>\n",
       "      <td>2</td>\n",
       "      <td>0</td>\n",
       "      <td>0</td>\n",
       "      <td>1</td>\n",
       "      <td>0</td>\n",
       "    </tr>\n",
       "    <tr>\n",
       "      <th>874</th>\n",
       "      <td>2</td>\n",
       "      <td>0</td>\n",
       "      <td>1</td>\n",
       "      <td>1</td>\n",
       "      <td>0</td>\n",
       "      <td>2</td>\n",
       "      <td>1</td>\n",
       "    </tr>\n",
       "    <tr>\n",
       "      <th>875</th>\n",
       "      <td>3</td>\n",
       "      <td>0</td>\n",
       "      <td>0</td>\n",
       "      <td>0</td>\n",
       "      <td>0</td>\n",
       "      <td>0</td>\n",
       "      <td>1</td>\n",
       "    </tr>\n",
       "    <tr>\n",
       "      <th>876</th>\n",
       "      <td>3</td>\n",
       "      <td>1</td>\n",
       "      <td>1</td>\n",
       "      <td>0</td>\n",
       "      <td>0</td>\n",
       "      <td>1</td>\n",
       "      <td>0</td>\n",
       "    </tr>\n",
       "    <tr>\n",
       "      <th>877</th>\n",
       "      <td>3</td>\n",
       "      <td>1</td>\n",
       "      <td>1</td>\n",
       "      <td>0</td>\n",
       "      <td>0</td>\n",
       "      <td>0</td>\n",
       "      <td>0</td>\n",
       "    </tr>\n",
       "    <tr>\n",
       "      <th>878</th>\n",
       "      <td>3</td>\n",
       "      <td>1</td>\n",
       "      <td>1</td>\n",
       "      <td>0</td>\n",
       "      <td>0</td>\n",
       "      <td>0</td>\n",
       "      <td>0</td>\n",
       "    </tr>\n",
       "    <tr>\n",
       "      <th>879</th>\n",
       "      <td>1</td>\n",
       "      <td>0</td>\n",
       "      <td>3</td>\n",
       "      <td>0</td>\n",
       "      <td>1</td>\n",
       "      <td>3</td>\n",
       "      <td>1</td>\n",
       "    </tr>\n",
       "    <tr>\n",
       "      <th>880</th>\n",
       "      <td>2</td>\n",
       "      <td>0</td>\n",
       "      <td>1</td>\n",
       "      <td>0</td>\n",
       "      <td>1</td>\n",
       "      <td>2</td>\n",
       "      <td>0</td>\n",
       "    </tr>\n",
       "    <tr>\n",
       "      <th>881</th>\n",
       "      <td>3</td>\n",
       "      <td>1</td>\n",
       "      <td>2</td>\n",
       "      <td>0</td>\n",
       "      <td>0</td>\n",
       "      <td>0</td>\n",
       "      <td>0</td>\n",
       "    </tr>\n",
       "    <tr>\n",
       "      <th>882</th>\n",
       "      <td>3</td>\n",
       "      <td>0</td>\n",
       "      <td>1</td>\n",
       "      <td>0</td>\n",
       "      <td>0</td>\n",
       "      <td>1</td>\n",
       "      <td>0</td>\n",
       "    </tr>\n",
       "    <tr>\n",
       "      <th>883</th>\n",
       "      <td>2</td>\n",
       "      <td>1</td>\n",
       "      <td>1</td>\n",
       "      <td>0</td>\n",
       "      <td>0</td>\n",
       "      <td>1</td>\n",
       "      <td>0</td>\n",
       "    </tr>\n",
       "    <tr>\n",
       "      <th>884</th>\n",
       "      <td>3</td>\n",
       "      <td>1</td>\n",
       "      <td>1</td>\n",
       "      <td>0</td>\n",
       "      <td>0</td>\n",
       "      <td>0</td>\n",
       "      <td>0</td>\n",
       "    </tr>\n",
       "    <tr>\n",
       "      <th>885</th>\n",
       "      <td>3</td>\n",
       "      <td>0</td>\n",
       "      <td>2</td>\n",
       "      <td>0</td>\n",
       "      <td>5</td>\n",
       "      <td>2</td>\n",
       "      <td>2</td>\n",
       "    </tr>\n",
       "    <tr>\n",
       "      <th>886</th>\n",
       "      <td>2</td>\n",
       "      <td>1</td>\n",
       "      <td>1</td>\n",
       "      <td>0</td>\n",
       "      <td>0</td>\n",
       "      <td>1</td>\n",
       "      <td>0</td>\n",
       "    </tr>\n",
       "    <tr>\n",
       "      <th>887</th>\n",
       "      <td>1</td>\n",
       "      <td>0</td>\n",
       "      <td>1</td>\n",
       "      <td>0</td>\n",
       "      <td>0</td>\n",
       "      <td>2</td>\n",
       "      <td>0</td>\n",
       "    </tr>\n",
       "    <tr>\n",
       "      <th>888</th>\n",
       "      <td>3</td>\n",
       "      <td>0</td>\n",
       "      <td>1</td>\n",
       "      <td>1</td>\n",
       "      <td>2</td>\n",
       "      <td>2</td>\n",
       "      <td>0</td>\n",
       "    </tr>\n",
       "    <tr>\n",
       "      <th>889</th>\n",
       "      <td>1</td>\n",
       "      <td>1</td>\n",
       "      <td>1</td>\n",
       "      <td>0</td>\n",
       "      <td>0</td>\n",
       "      <td>2</td>\n",
       "      <td>1</td>\n",
       "    </tr>\n",
       "    <tr>\n",
       "      <th>890</th>\n",
       "      <td>3</td>\n",
       "      <td>1</td>\n",
       "      <td>1</td>\n",
       "      <td>0</td>\n",
       "      <td>0</td>\n",
       "      <td>0</td>\n",
       "      <td>2</td>\n",
       "    </tr>\n",
       "  </tbody>\n",
       "</table>\n",
       "<p>891 rows × 7 columns</p>\n",
       "</div>"
      ],
      "text/plain": [
       "     Pclass  Sex  Age  SibSp  Parch  Fare  Embarked\n",
       "0         3    1    1      1      0     0         0\n",
       "1         1    0    2      1      0     3         1\n",
       "2         3    0    1      0      0     0         0\n",
       "3         1    0    2      1      0     3         0\n",
       "4         3    1    2      0      0     1         0\n",
       "5         3    1    1      0      0     1         2\n",
       "6         1    1    3      0      0     3         0\n",
       "7         3    1    0      3      1     2         0\n",
       "8         3    0    1      0      2     1         0\n",
       "9         2    0    0      1      0     2         1\n",
       "10        3    0    0      1      1     2         0\n",
       "11        1    0    3      0      0     2         0\n",
       "12        3    1    1      0      0     1         0\n",
       "13        3    1    2      1      5     2         0\n",
       "14        3    0    0      0      0     0         0\n",
       "15        2    0    3      0      0     2         0\n",
       "16        3    1    0      4      1     2         2\n",
       "17        2    1    2      0      0     1         0\n",
       "18        3    0    1      1      0     2         0\n",
       "19        3    0    1      0      0     0         1\n",
       "20        2    1    2      0      0     2         0\n",
       "21        2    1    2      0      0     1         0\n",
       "22        3    0    0      0      0     1         2\n",
       "23        1    1    1      0      0     3         0\n",
       "24        3    0    0      3      1     2         0\n",
       "25        3    0    2      1      5     2         0\n",
       "26        3    1    1      0      0     0         1\n",
       "27        1    1    1      3      2     3         0\n",
       "28        3    0    1      0      0     0         2\n",
       "29        3    1    1      0      0     0         0\n",
       "..      ...  ...  ...    ...    ...   ...       ...\n",
       "861       2    1    1      1      0     1         0\n",
       "862       1    0    2      0      0     2         0\n",
       "863       3    0    1      8      2     3         0\n",
       "864       2    1    1      0      0     1         0\n",
       "865       2    0    2      0      0     1         0\n",
       "866       2    0    1      1      0     1         1\n",
       "867       1    1    1      0      0     3         0\n",
       "868       3    1    1      0      0     1         0\n",
       "869       3    1    0      1      1     1         0\n",
       "870       3    1    1      0      0     0         0\n",
       "871       1    0    2      1      1     3         0\n",
       "872       1    1    2      0      0     0         0\n",
       "873       3    1    2      0      0     1         0\n",
       "874       2    0    1      1      0     2         1\n",
       "875       3    0    0      0      0     0         1\n",
       "876       3    1    1      0      0     1         0\n",
       "877       3    1    1      0      0     0         0\n",
       "878       3    1    1      0      0     0         0\n",
       "879       1    0    3      0      1     3         1\n",
       "880       2    0    1      0      1     2         0\n",
       "881       3    1    2      0      0     0         0\n",
       "882       3    0    1      0      0     1         0\n",
       "883       2    1    1      0      0     1         0\n",
       "884       3    1    1      0      0     0         0\n",
       "885       3    0    2      0      5     2         2\n",
       "886       2    1    1      0      0     1         0\n",
       "887       1    0    1      0      0     2         0\n",
       "888       3    0    1      1      2     2         0\n",
       "889       1    1    1      0      0     2         1\n",
       "890       3    1    1      0      0     0         2\n",
       "\n",
       "[891 rows x 7 columns]"
      ]
     },
     "execution_count": 25,
     "metadata": {},
     "output_type": "execute_result"
    }
   ],
   "source": [
    "# Feature selection\n",
    "# Survived is our target\n",
    "features = [\"Age\", \"Fare\", \"Sex\", \"Pclass\", \"Embarked\", \"Parch\", 'SibSp']\n",
    "drop_elements = ['Name', 'Ticket', 'Cabin','CategoricalAge']\n",
    "X_train = X_train.drop(drop_elements, axis = 1)\n",
    "X_train = X_train.drop(\"Survived\", axis = 1)\n",
    "X_train = X_train.drop(\"PassengerId\", axis = 1)\n",
    "X_train"
   ]
  },
  {
   "cell_type": "code",
   "execution_count": 26,
   "metadata": {
    "execution": {
     "iopub.execute_input": "2021-12-05T19:10:29.258817Z",
     "iopub.status.busy": "2021-12-05T19:10:29.258331Z",
     "iopub.status.idle": "2021-12-05T19:10:29.300555Z",
     "shell.execute_reply": "2021-12-05T19:10:29.299573Z",
     "shell.execute_reply.started": "2021-12-05T19:10:29.258740Z"
    }
   },
   "outputs": [
    {
     "data": {
      "text/html": [
       "<div>\n",
       "<style scoped>\n",
       "    .dataframe tbody tr th:only-of-type {\n",
       "        vertical-align: middle;\n",
       "    }\n",
       "\n",
       "    .dataframe tbody tr th {\n",
       "        vertical-align: top;\n",
       "    }\n",
       "\n",
       "    .dataframe thead th {\n",
       "        text-align: right;\n",
       "    }\n",
       "</style>\n",
       "<table border=\"1\" class=\"dataframe\">\n",
       "  <thead>\n",
       "    <tr style=\"text-align: right;\">\n",
       "      <th></th>\n",
       "      <th>Pclass</th>\n",
       "      <th>Sex</th>\n",
       "      <th>Age</th>\n",
       "      <th>SibSp</th>\n",
       "      <th>Parch</th>\n",
       "      <th>Fare</th>\n",
       "      <th>Embarked</th>\n",
       "    </tr>\n",
       "  </thead>\n",
       "  <tbody>\n",
       "    <tr>\n",
       "      <th>0</th>\n",
       "      <td>3</td>\n",
       "      <td>1</td>\n",
       "      <td>2</td>\n",
       "      <td>0</td>\n",
       "      <td>0</td>\n",
       "      <td>0</td>\n",
       "      <td>2</td>\n",
       "    </tr>\n",
       "    <tr>\n",
       "      <th>1</th>\n",
       "      <td>3</td>\n",
       "      <td>0</td>\n",
       "      <td>2</td>\n",
       "      <td>1</td>\n",
       "      <td>0</td>\n",
       "      <td>0</td>\n",
       "      <td>0</td>\n",
       "    </tr>\n",
       "    <tr>\n",
       "      <th>2</th>\n",
       "      <td>2</td>\n",
       "      <td>1</td>\n",
       "      <td>3</td>\n",
       "      <td>0</td>\n",
       "      <td>0</td>\n",
       "      <td>1</td>\n",
       "      <td>2</td>\n",
       "    </tr>\n",
       "    <tr>\n",
       "      <th>3</th>\n",
       "      <td>3</td>\n",
       "      <td>1</td>\n",
       "      <td>1</td>\n",
       "      <td>0</td>\n",
       "      <td>0</td>\n",
       "      <td>1</td>\n",
       "      <td>0</td>\n",
       "    </tr>\n",
       "    <tr>\n",
       "      <th>4</th>\n",
       "      <td>3</td>\n",
       "      <td>0</td>\n",
       "      <td>1</td>\n",
       "      <td>1</td>\n",
       "      <td>1</td>\n",
       "      <td>1</td>\n",
       "      <td>0</td>\n",
       "    </tr>\n",
       "    <tr>\n",
       "      <th>5</th>\n",
       "      <td>3</td>\n",
       "      <td>1</td>\n",
       "      <td>0</td>\n",
       "      <td>0</td>\n",
       "      <td>0</td>\n",
       "      <td>1</td>\n",
       "      <td>0</td>\n",
       "    </tr>\n",
       "    <tr>\n",
       "      <th>6</th>\n",
       "      <td>3</td>\n",
       "      <td>0</td>\n",
       "      <td>1</td>\n",
       "      <td>0</td>\n",
       "      <td>0</td>\n",
       "      <td>0</td>\n",
       "      <td>2</td>\n",
       "    </tr>\n",
       "    <tr>\n",
       "      <th>7</th>\n",
       "      <td>2</td>\n",
       "      <td>1</td>\n",
       "      <td>1</td>\n",
       "      <td>1</td>\n",
       "      <td>1</td>\n",
       "      <td>2</td>\n",
       "      <td>0</td>\n",
       "    </tr>\n",
       "    <tr>\n",
       "      <th>8</th>\n",
       "      <td>3</td>\n",
       "      <td>0</td>\n",
       "      <td>1</td>\n",
       "      <td>0</td>\n",
       "      <td>0</td>\n",
       "      <td>0</td>\n",
       "      <td>1</td>\n",
       "    </tr>\n",
       "    <tr>\n",
       "      <th>9</th>\n",
       "      <td>3</td>\n",
       "      <td>1</td>\n",
       "      <td>1</td>\n",
       "      <td>2</td>\n",
       "      <td>0</td>\n",
       "      <td>2</td>\n",
       "      <td>0</td>\n",
       "    </tr>\n",
       "    <tr>\n",
       "      <th>10</th>\n",
       "      <td>3</td>\n",
       "      <td>1</td>\n",
       "      <td>2</td>\n",
       "      <td>0</td>\n",
       "      <td>0</td>\n",
       "      <td>0</td>\n",
       "      <td>0</td>\n",
       "    </tr>\n",
       "    <tr>\n",
       "      <th>11</th>\n",
       "      <td>1</td>\n",
       "      <td>1</td>\n",
       "      <td>2</td>\n",
       "      <td>0</td>\n",
       "      <td>0</td>\n",
       "      <td>2</td>\n",
       "      <td>0</td>\n",
       "    </tr>\n",
       "    <tr>\n",
       "      <th>12</th>\n",
       "      <td>1</td>\n",
       "      <td>0</td>\n",
       "      <td>1</td>\n",
       "      <td>1</td>\n",
       "      <td>0</td>\n",
       "      <td>3</td>\n",
       "      <td>0</td>\n",
       "    </tr>\n",
       "    <tr>\n",
       "      <th>13</th>\n",
       "      <td>2</td>\n",
       "      <td>1</td>\n",
       "      <td>3</td>\n",
       "      <td>1</td>\n",
       "      <td>0</td>\n",
       "      <td>2</td>\n",
       "      <td>0</td>\n",
       "    </tr>\n",
       "    <tr>\n",
       "      <th>14</th>\n",
       "      <td>1</td>\n",
       "      <td>0</td>\n",
       "      <td>2</td>\n",
       "      <td>1</td>\n",
       "      <td>0</td>\n",
       "      <td>3</td>\n",
       "      <td>0</td>\n",
       "    </tr>\n",
       "    <tr>\n",
       "      <th>15</th>\n",
       "      <td>2</td>\n",
       "      <td>0</td>\n",
       "      <td>1</td>\n",
       "      <td>1</td>\n",
       "      <td>0</td>\n",
       "      <td>2</td>\n",
       "      <td>1</td>\n",
       "    </tr>\n",
       "    <tr>\n",
       "      <th>16</th>\n",
       "      <td>2</td>\n",
       "      <td>1</td>\n",
       "      <td>2</td>\n",
       "      <td>0</td>\n",
       "      <td>0</td>\n",
       "      <td>1</td>\n",
       "      <td>2</td>\n",
       "    </tr>\n",
       "    <tr>\n",
       "      <th>17</th>\n",
       "      <td>3</td>\n",
       "      <td>1</td>\n",
       "      <td>1</td>\n",
       "      <td>0</td>\n",
       "      <td>0</td>\n",
       "      <td>0</td>\n",
       "      <td>1</td>\n",
       "    </tr>\n",
       "    <tr>\n",
       "      <th>18</th>\n",
       "      <td>3</td>\n",
       "      <td>0</td>\n",
       "      <td>1</td>\n",
       "      <td>1</td>\n",
       "      <td>0</td>\n",
       "      <td>0</td>\n",
       "      <td>0</td>\n",
       "    </tr>\n",
       "    <tr>\n",
       "      <th>19</th>\n",
       "      <td>3</td>\n",
       "      <td>0</td>\n",
       "      <td>2</td>\n",
       "      <td>0</td>\n",
       "      <td>0</td>\n",
       "      <td>0</td>\n",
       "      <td>1</td>\n",
       "    </tr>\n",
       "    <tr>\n",
       "      <th>20</th>\n",
       "      <td>1</td>\n",
       "      <td>1</td>\n",
       "      <td>3</td>\n",
       "      <td>1</td>\n",
       "      <td>0</td>\n",
       "      <td>3</td>\n",
       "      <td>1</td>\n",
       "    </tr>\n",
       "    <tr>\n",
       "      <th>21</th>\n",
       "      <td>3</td>\n",
       "      <td>1</td>\n",
       "      <td>0</td>\n",
       "      <td>0</td>\n",
       "      <td>1</td>\n",
       "      <td>0</td>\n",
       "      <td>0</td>\n",
       "    </tr>\n",
       "    <tr>\n",
       "      <th>22</th>\n",
       "      <td>1</td>\n",
       "      <td>0</td>\n",
       "      <td>2</td>\n",
       "      <td>0</td>\n",
       "      <td>0</td>\n",
       "      <td>2</td>\n",
       "      <td>0</td>\n",
       "    </tr>\n",
       "    <tr>\n",
       "      <th>23</th>\n",
       "      <td>1</td>\n",
       "      <td>1</td>\n",
       "      <td>1</td>\n",
       "      <td>0</td>\n",
       "      <td>1</td>\n",
       "      <td>3</td>\n",
       "      <td>1</td>\n",
       "    </tr>\n",
       "    <tr>\n",
       "      <th>24</th>\n",
       "      <td>1</td>\n",
       "      <td>0</td>\n",
       "      <td>2</td>\n",
       "      <td>1</td>\n",
       "      <td>3</td>\n",
       "      <td>3</td>\n",
       "      <td>1</td>\n",
       "    </tr>\n",
       "    <tr>\n",
       "      <th>25</th>\n",
       "      <td>3</td>\n",
       "      <td>1</td>\n",
       "      <td>3</td>\n",
       "      <td>1</td>\n",
       "      <td>0</td>\n",
       "      <td>1</td>\n",
       "      <td>0</td>\n",
       "    </tr>\n",
       "    <tr>\n",
       "      <th>26</th>\n",
       "      <td>1</td>\n",
       "      <td>0</td>\n",
       "      <td>1</td>\n",
       "      <td>0</td>\n",
       "      <td>1</td>\n",
       "      <td>3</td>\n",
       "      <td>1</td>\n",
       "    </tr>\n",
       "    <tr>\n",
       "      <th>27</th>\n",
       "      <td>3</td>\n",
       "      <td>1</td>\n",
       "      <td>1</td>\n",
       "      <td>0</td>\n",
       "      <td>0</td>\n",
       "      <td>0</td>\n",
       "      <td>1</td>\n",
       "    </tr>\n",
       "    <tr>\n",
       "      <th>28</th>\n",
       "      <td>1</td>\n",
       "      <td>1</td>\n",
       "      <td>2</td>\n",
       "      <td>0</td>\n",
       "      <td>0</td>\n",
       "      <td>2</td>\n",
       "      <td>0</td>\n",
       "    </tr>\n",
       "    <tr>\n",
       "      <th>29</th>\n",
       "      <td>3</td>\n",
       "      <td>1</td>\n",
       "      <td>2</td>\n",
       "      <td>2</td>\n",
       "      <td>0</td>\n",
       "      <td>2</td>\n",
       "      <td>1</td>\n",
       "    </tr>\n",
       "    <tr>\n",
       "      <th>...</th>\n",
       "      <td>...</td>\n",
       "      <td>...</td>\n",
       "      <td>...</td>\n",
       "      <td>...</td>\n",
       "      <td>...</td>\n",
       "      <td>...</td>\n",
       "      <td>...</td>\n",
       "    </tr>\n",
       "    <tr>\n",
       "      <th>388</th>\n",
       "      <td>3</td>\n",
       "      <td>1</td>\n",
       "      <td>1</td>\n",
       "      <td>0</td>\n",
       "      <td>0</td>\n",
       "      <td>0</td>\n",
       "      <td>2</td>\n",
       "    </tr>\n",
       "    <tr>\n",
       "      <th>389</th>\n",
       "      <td>3</td>\n",
       "      <td>1</td>\n",
       "      <td>0</td>\n",
       "      <td>3</td>\n",
       "      <td>1</td>\n",
       "      <td>2</td>\n",
       "      <td>0</td>\n",
       "    </tr>\n",
       "    <tr>\n",
       "      <th>390</th>\n",
       "      <td>1</td>\n",
       "      <td>1</td>\n",
       "      <td>1</td>\n",
       "      <td>0</td>\n",
       "      <td>0</td>\n",
       "      <td>3</td>\n",
       "      <td>0</td>\n",
       "    </tr>\n",
       "    <tr>\n",
       "      <th>391</th>\n",
       "      <td>1</td>\n",
       "      <td>0</td>\n",
       "      <td>3</td>\n",
       "      <td>0</td>\n",
       "      <td>1</td>\n",
       "      <td>3</td>\n",
       "      <td>0</td>\n",
       "    </tr>\n",
       "    <tr>\n",
       "      <th>392</th>\n",
       "      <td>3</td>\n",
       "      <td>1</td>\n",
       "      <td>0</td>\n",
       "      <td>0</td>\n",
       "      <td>2</td>\n",
       "      <td>2</td>\n",
       "      <td>0</td>\n",
       "    </tr>\n",
       "    <tr>\n",
       "      <th>393</th>\n",
       "      <td>2</td>\n",
       "      <td>1</td>\n",
       "      <td>2</td>\n",
       "      <td>0</td>\n",
       "      <td>0</td>\n",
       "      <td>1</td>\n",
       "      <td>0</td>\n",
       "    </tr>\n",
       "    <tr>\n",
       "      <th>394</th>\n",
       "      <td>3</td>\n",
       "      <td>1</td>\n",
       "      <td>1</td>\n",
       "      <td>3</td>\n",
       "      <td>1</td>\n",
       "      <td>2</td>\n",
       "      <td>0</td>\n",
       "    </tr>\n",
       "    <tr>\n",
       "      <th>395</th>\n",
       "      <td>1</td>\n",
       "      <td>0</td>\n",
       "      <td>1</td>\n",
       "      <td>1</td>\n",
       "      <td>0</td>\n",
       "      <td>3</td>\n",
       "      <td>0</td>\n",
       "    </tr>\n",
       "    <tr>\n",
       "      <th>396</th>\n",
       "      <td>3</td>\n",
       "      <td>1</td>\n",
       "      <td>1</td>\n",
       "      <td>0</td>\n",
       "      <td>0</td>\n",
       "      <td>0</td>\n",
       "      <td>2</td>\n",
       "    </tr>\n",
       "    <tr>\n",
       "      <th>397</th>\n",
       "      <td>1</td>\n",
       "      <td>0</td>\n",
       "      <td>2</td>\n",
       "      <td>1</td>\n",
       "      <td>1</td>\n",
       "      <td>3</td>\n",
       "      <td>1</td>\n",
       "    </tr>\n",
       "    <tr>\n",
       "      <th>398</th>\n",
       "      <td>3</td>\n",
       "      <td>1</td>\n",
       "      <td>1</td>\n",
       "      <td>0</td>\n",
       "      <td>0</td>\n",
       "      <td>0</td>\n",
       "      <td>0</td>\n",
       "    </tr>\n",
       "    <tr>\n",
       "      <th>399</th>\n",
       "      <td>3</td>\n",
       "      <td>1</td>\n",
       "      <td>1</td>\n",
       "      <td>0</td>\n",
       "      <td>0</td>\n",
       "      <td>0</td>\n",
       "      <td>2</td>\n",
       "    </tr>\n",
       "    <tr>\n",
       "      <th>400</th>\n",
       "      <td>1</td>\n",
       "      <td>0</td>\n",
       "      <td>1</td>\n",
       "      <td>0</td>\n",
       "      <td>0</td>\n",
       "      <td>3</td>\n",
       "      <td>0</td>\n",
       "    </tr>\n",
       "    <tr>\n",
       "      <th>401</th>\n",
       "      <td>2</td>\n",
       "      <td>1</td>\n",
       "      <td>2</td>\n",
       "      <td>1</td>\n",
       "      <td>0</td>\n",
       "      <td>2</td>\n",
       "      <td>0</td>\n",
       "    </tr>\n",
       "    <tr>\n",
       "      <th>402</th>\n",
       "      <td>1</td>\n",
       "      <td>0</td>\n",
       "      <td>1</td>\n",
       "      <td>0</td>\n",
       "      <td>1</td>\n",
       "      <td>3</td>\n",
       "      <td>1</td>\n",
       "    </tr>\n",
       "    <tr>\n",
       "      <th>403</th>\n",
       "      <td>1</td>\n",
       "      <td>1</td>\n",
       "      <td>1</td>\n",
       "      <td>0</td>\n",
       "      <td>0</td>\n",
       "      <td>3</td>\n",
       "      <td>0</td>\n",
       "    </tr>\n",
       "    <tr>\n",
       "      <th>404</th>\n",
       "      <td>1</td>\n",
       "      <td>1</td>\n",
       "      <td>2</td>\n",
       "      <td>1</td>\n",
       "      <td>0</td>\n",
       "      <td>2</td>\n",
       "      <td>1</td>\n",
       "    </tr>\n",
       "    <tr>\n",
       "      <th>405</th>\n",
       "      <td>2</td>\n",
       "      <td>1</td>\n",
       "      <td>1</td>\n",
       "      <td>0</td>\n",
       "      <td>0</td>\n",
       "      <td>1</td>\n",
       "      <td>1</td>\n",
       "    </tr>\n",
       "    <tr>\n",
       "      <th>406</th>\n",
       "      <td>2</td>\n",
       "      <td>1</td>\n",
       "      <td>1</td>\n",
       "      <td>1</td>\n",
       "      <td>0</td>\n",
       "      <td>1</td>\n",
       "      <td>0</td>\n",
       "    </tr>\n",
       "    <tr>\n",
       "      <th>407</th>\n",
       "      <td>1</td>\n",
       "      <td>1</td>\n",
       "      <td>3</td>\n",
       "      <td>1</td>\n",
       "      <td>1</td>\n",
       "      <td>3</td>\n",
       "      <td>1</td>\n",
       "    </tr>\n",
       "    <tr>\n",
       "      <th>408</th>\n",
       "      <td>3</td>\n",
       "      <td>0</td>\n",
       "      <td>1</td>\n",
       "      <td>0</td>\n",
       "      <td>0</td>\n",
       "      <td>0</td>\n",
       "      <td>2</td>\n",
       "    </tr>\n",
       "    <tr>\n",
       "      <th>409</th>\n",
       "      <td>3</td>\n",
       "      <td>0</td>\n",
       "      <td>0</td>\n",
       "      <td>1</td>\n",
       "      <td>1</td>\n",
       "      <td>1</td>\n",
       "      <td>0</td>\n",
       "    </tr>\n",
       "    <tr>\n",
       "      <th>410</th>\n",
       "      <td>3</td>\n",
       "      <td>0</td>\n",
       "      <td>2</td>\n",
       "      <td>0</td>\n",
       "      <td>0</td>\n",
       "      <td>0</td>\n",
       "      <td>2</td>\n",
       "    </tr>\n",
       "    <tr>\n",
       "      <th>411</th>\n",
       "      <td>1</td>\n",
       "      <td>0</td>\n",
       "      <td>2</td>\n",
       "      <td>1</td>\n",
       "      <td>0</td>\n",
       "      <td>3</td>\n",
       "      <td>2</td>\n",
       "    </tr>\n",
       "    <tr>\n",
       "      <th>412</th>\n",
       "      <td>3</td>\n",
       "      <td>0</td>\n",
       "      <td>1</td>\n",
       "      <td>0</td>\n",
       "      <td>0</td>\n",
       "      <td>0</td>\n",
       "      <td>0</td>\n",
       "    </tr>\n",
       "    <tr>\n",
       "      <th>413</th>\n",
       "      <td>3</td>\n",
       "      <td>1</td>\n",
       "      <td>2</td>\n",
       "      <td>0</td>\n",
       "      <td>0</td>\n",
       "      <td>1</td>\n",
       "      <td>0</td>\n",
       "    </tr>\n",
       "    <tr>\n",
       "      <th>414</th>\n",
       "      <td>1</td>\n",
       "      <td>0</td>\n",
       "      <td>2</td>\n",
       "      <td>0</td>\n",
       "      <td>0</td>\n",
       "      <td>3</td>\n",
       "      <td>1</td>\n",
       "    </tr>\n",
       "    <tr>\n",
       "      <th>415</th>\n",
       "      <td>3</td>\n",
       "      <td>1</td>\n",
       "      <td>2</td>\n",
       "      <td>0</td>\n",
       "      <td>0</td>\n",
       "      <td>0</td>\n",
       "      <td>0</td>\n",
       "    </tr>\n",
       "    <tr>\n",
       "      <th>416</th>\n",
       "      <td>3</td>\n",
       "      <td>1</td>\n",
       "      <td>2</td>\n",
       "      <td>0</td>\n",
       "      <td>0</td>\n",
       "      <td>1</td>\n",
       "      <td>0</td>\n",
       "    </tr>\n",
       "    <tr>\n",
       "      <th>417</th>\n",
       "      <td>3</td>\n",
       "      <td>1</td>\n",
       "      <td>1</td>\n",
       "      <td>1</td>\n",
       "      <td>1</td>\n",
       "      <td>2</td>\n",
       "      <td>1</td>\n",
       "    </tr>\n",
       "  </tbody>\n",
       "</table>\n",
       "<p>418 rows × 7 columns</p>\n",
       "</div>"
      ],
      "text/plain": [
       "     Pclass  Sex  Age  SibSp  Parch  Fare  Embarked\n",
       "0         3    1    2      0      0     0         2\n",
       "1         3    0    2      1      0     0         0\n",
       "2         2    1    3      0      0     1         2\n",
       "3         3    1    1      0      0     1         0\n",
       "4         3    0    1      1      1     1         0\n",
       "5         3    1    0      0      0     1         0\n",
       "6         3    0    1      0      0     0         2\n",
       "7         2    1    1      1      1     2         0\n",
       "8         3    0    1      0      0     0         1\n",
       "9         3    1    1      2      0     2         0\n",
       "10        3    1    2      0      0     0         0\n",
       "11        1    1    2      0      0     2         0\n",
       "12        1    0    1      1      0     3         0\n",
       "13        2    1    3      1      0     2         0\n",
       "14        1    0    2      1      0     3         0\n",
       "15        2    0    1      1      0     2         1\n",
       "16        2    1    2      0      0     1         2\n",
       "17        3    1    1      0      0     0         1\n",
       "18        3    0    1      1      0     0         0\n",
       "19        3    0    2      0      0     0         1\n",
       "20        1    1    3      1      0     3         1\n",
       "21        3    1    0      0      1     0         0\n",
       "22        1    0    2      0      0     2         0\n",
       "23        1    1    1      0      1     3         1\n",
       "24        1    0    2      1      3     3         1\n",
       "25        3    1    3      1      0     1         0\n",
       "26        1    0    1      0      1     3         1\n",
       "27        3    1    1      0      0     0         1\n",
       "28        1    1    2      0      0     2         0\n",
       "29        3    1    2      2      0     2         1\n",
       "..      ...  ...  ...    ...    ...   ...       ...\n",
       "388       3    1    1      0      0     0         2\n",
       "389       3    1    0      3      1     2         0\n",
       "390       1    1    1      0      0     3         0\n",
       "391       1    0    3      0      1     3         0\n",
       "392       3    1    0      0      2     2         0\n",
       "393       2    1    2      0      0     1         0\n",
       "394       3    1    1      3      1     2         0\n",
       "395       1    0    1      1      0     3         0\n",
       "396       3    1    1      0      0     0         2\n",
       "397       1    0    2      1      1     3         1\n",
       "398       3    1    1      0      0     0         0\n",
       "399       3    1    1      0      0     0         2\n",
       "400       1    0    1      0      0     3         0\n",
       "401       2    1    2      1      0     2         0\n",
       "402       1    0    1      0      1     3         1\n",
       "403       1    1    1      0      0     3         0\n",
       "404       1    1    2      1      0     2         1\n",
       "405       2    1    1      0      0     1         1\n",
       "406       2    1    1      1      0     1         0\n",
       "407       1    1    3      1      1     3         1\n",
       "408       3    0    1      0      0     0         2\n",
       "409       3    0    0      1      1     1         0\n",
       "410       3    0    2      0      0     0         2\n",
       "411       1    0    2      1      0     3         2\n",
       "412       3    0    1      0      0     0         0\n",
       "413       3    1    2      0      0     1         0\n",
       "414       1    0    2      0      0     3         1\n",
       "415       3    1    2      0      0     0         0\n",
       "416       3    1    2      0      0     1         0\n",
       "417       3    1    1      1      1     2         1\n",
       "\n",
       "[418 rows x 7 columns]"
      ]
     },
     "execution_count": 26,
     "metadata": {},
     "output_type": "execute_result"
    }
   ],
   "source": [
    "X_test = X_test.drop(drop_elements, axis = 1)\n",
    "X_test = X_test.drop(\"PassengerId\", axis = 1)\n",
    "X_test"
   ]
  },
  {
   "cell_type": "code",
   "execution_count": 28,
   "metadata": {
    "execution": {
     "iopub.execute_input": "2021-12-05T19:10:54.140928Z",
     "iopub.status.busy": "2021-12-05T19:10:54.140314Z",
     "iopub.status.idle": "2021-12-05T19:10:54.149040Z",
     "shell.execute_reply": "2021-12-05T19:10:54.148179Z",
     "shell.execute_reply.started": "2021-12-05T19:10:54.140862Z"
    }
   },
   "outputs": [],
   "source": [
    "pd.set_option('display.max_rows', None)\n",
    "pd.set_option('display.max_columns', None)\n",
    "pd.set_option('display.width', None)\n",
    "pd.set_option('display.max_colwidth', -1)\n",
    "pd.options.display.max_rows\n",
    "# set display options in order to see all components from pca"
   ]
  },
  {
   "cell_type": "code",
   "execution_count": 29,
   "metadata": {
    "execution": {
     "iopub.execute_input": "2021-12-05T19:10:54.687429Z",
     "iopub.status.busy": "2021-12-05T19:10:54.687076Z",
     "iopub.status.idle": "2021-12-05T19:10:54.767053Z",
     "shell.execute_reply": "2021-12-05T19:10:54.766053Z",
     "shell.execute_reply.started": "2021-12-05T19:10:54.687358Z"
    }
   },
   "outputs": [
    {
     "name": "stdout",
     "output_type": "stream",
     "text": [
      "               PC1       PC2       PC3       PC4       PC5       PC6       PC7\n",
      "Pclass   -0.398875  0.560815 -0.025451  0.020619  0.348479 -0.120992  0.623888\n",
      "Sex      -0.323379 -0.103456 -0.555873  0.659583 -0.183467  0.327046  0.007675\n",
      "Age       0.019615 -0.570623 -0.056455  0.199024  0.757535 -0.234619  0.047966\n",
      "SibSp     0.391946  0.424319 -0.167048  0.428970  0.011653 -0.614242 -0.277457\n",
      "Parch     0.439190  0.360402 -0.060392  0.027373  0.462192  0.653878 -0.177898\n",
      "Fare      0.618387 -0.197842 -0.046967  0.137414 -0.236133  0.042850  0.706946\n",
      "Embarked -0.083828  0.009780  0.808339  0.566805 -0.039067  0.129110 -0.001282\n"
     ]
    }
   ],
   "source": [
    "pca, X_pca, loadings = apply_pca(X_train)\n",
    "print(loadings)"
   ]
  },
  {
   "cell_type": "markdown",
   "metadata": {},
   "source": [
    "PC1: Fare & Parch have the most weight\n",
    "\n",
    "PC2: Pclass & Age have the most weight\n",
    "\n",
    "PC3: Sex & Embarked have the most weight\n",
    "\n",
    "PC4: Sex & Embarked have the most weight, all values positively correlated\n",
    "\n",
    "PC5: Age & Parch have the most weight\n",
    "\n",
    "PC6: SibSp & Parch have the most weight\n",
    "\n",
    "PC7: Pclass & Fare have the most weight\n",
    "\n"
   ]
  },
  {
   "cell_type": "code",
   "execution_count": 30,
   "metadata": {
    "execution": {
     "iopub.execute_input": "2021-12-05T19:10:56.878287Z",
     "iopub.status.busy": "2021-12-05T19:10:56.877970Z",
     "iopub.status.idle": "2021-12-05T19:10:57.791499Z",
     "shell.execute_reply": "2021-12-05T19:10:57.790470Z",
     "shell.execute_reply.started": "2021-12-05T19:10:56.878234Z"
    }
   },
   "outputs": [
    {
     "data": {
      "text/plain": [
       "<seaborn.axisgrid.FacetGrid at 0x7f545d061668>"
      ]
     },
     "execution_count": 30,
     "metadata": {},
     "output_type": "execute_result"
    },
    {
     "data": {
      "image/png": "[encoded data removed]",
      "text/plain": [
       "<matplotlib.figure.Figure at 0x7f546e05a780>"
      ]
     },
     "metadata": {},
     "output_type": "display_data"
    }
   ],
   "source": [
    "# Making distribution plots to see outliers\n",
    "sns.factorplot(y=\"value\", col=\"variable\", data=X_pca.melt(), kind='violin', sharey=False, col_wrap=2)"
   ]
  },
  {
   "cell_type": "code",
   "execution_count": 31,
   "metadata": {
    "execution": {
     "iopub.execute_input": "2021-12-05T19:10:59.132861Z",
     "iopub.status.busy": "2021-12-05T19:10:59.132377Z",
     "iopub.status.idle": "2021-12-05T19:10:59.149604Z",
     "shell.execute_reply": "2021-12-05T19:10:59.148636Z",
     "shell.execute_reply.started": "2021-12-05T19:10:59.132797Z"
    }
   },
   "outputs": [
    {
     "data": {
      "text/plain": [
       "79.573512906846247"
      ]
     },
     "execution_count": 31,
     "metadata": {},
     "output_type": "execute_result"
    }
   ],
   "source": [
    "logreg = LogisticRegression()\n",
    "logreg.fit(X_train, y_train)\n",
    "Y_pred_1 = logreg.predict(X_test)\n",
    "acc_log = logreg.score(X_train, y_train) * 100\n",
    "acc_log"
   ]
  },
  {
   "cell_type": "code",
   "execution_count": 32,
   "metadata": {
    "execution": {
     "iopub.execute_input": "2021-12-05T19:11:00.010426Z",
     "iopub.status.busy": "2021-12-05T19:11:00.009805Z",
     "iopub.status.idle": "2021-12-05T19:11:00.061366Z",
     "shell.execute_reply": "2021-12-05T19:11:00.060428Z",
     "shell.execute_reply.started": "2021-12-05T19:11:00.010081Z"
    }
   },
   "outputs": [
    {
     "data": {
      "text/plain": [
       "83.16498316498317"
      ]
     },
     "execution_count": 32,
     "metadata": {},
     "output_type": "execute_result"
    }
   ],
   "source": [
    "svc = SVC()\n",
    "svc.fit(X_train, y_train)\n",
    "Y_pred_2 = svc.predict(X_test)\n",
    "acc_svc = svc.score(X_train, y_train) * 100\n",
    "acc_svc"
   ]
  },
  {
   "cell_type": "code",
   "execution_count": 33,
   "metadata": {
    "execution": {
     "iopub.execute_input": "2021-12-05T19:11:00.999956Z",
     "iopub.status.busy": "2021-12-05T19:11:00.999576Z",
     "iopub.status.idle": "2021-12-05T19:11:01.050058Z",
     "shell.execute_reply": "2021-12-05T19:11:01.048980Z",
     "shell.execute_reply.started": "2021-12-05T19:11:00.999888Z"
    }
   },
   "outputs": [
    {
     "data": {
      "text/plain": [
       "83.389450056116715"
      ]
     },
     "execution_count": 33,
     "metadata": {},
     "output_type": "execute_result"
    }
   ],
   "source": [
    "knn = KNeighborsClassifier(n_neighbors = 10)\n",
    "knn.fit(X_train, y_train)\n",
    "Y_pred_3 = knn.predict(X_test)\n",
    "acc_knn = knn.score(X_train, y_train) * 100\n",
    "acc_knn"
   ]
  },
  {
   "cell_type": "code",
   "execution_count": 34,
   "metadata": {
    "execution": {
     "iopub.execute_input": "2021-12-05T19:11:01.644864Z",
     "iopub.status.busy": "2021-12-05T19:11:01.644537Z",
     "iopub.status.idle": "2021-12-05T19:11:01.658294Z",
     "shell.execute_reply": "2021-12-05T19:11:01.657483Z",
     "shell.execute_reply.started": "2021-12-05T19:11:01.644810Z"
    }
   },
   "outputs": [
    {
     "data": {
      "text/plain": [
       "89.001122334455658"
      ]
     },
     "execution_count": 34,
     "metadata": {},
     "output_type": "execute_result"
    }
   ],
   "source": [
    "decision_tree = DecisionTreeClassifier()\n",
    "decision_tree.fit(X_train, y_train)\n",
    "Y_pred_4 = decision_tree.predict(X_test)\n",
    "acc_decision_tree = decision_tree.score(X_train, y_train) * 100\n",
    "acc_decision_tree"
   ]
  },
  {
   "cell_type": "code",
   "execution_count": 35,
   "metadata": {
    "execution": {
     "iopub.execute_input": "2021-12-05T19:11:02.381975Z",
     "iopub.status.busy": "2021-12-05T19:11:02.381539Z",
     "iopub.status.idle": "2021-12-05T19:11:02.478897Z",
     "shell.execute_reply": "2021-12-05T19:11:02.478135Z",
     "shell.execute_reply.started": "2021-12-05T19:11:02.381907Z"
    }
   },
   "outputs": [
    {
     "data": {
      "text/plain": [
       "89.001122334455658"
      ]
     },
     "execution_count": 35,
     "metadata": {},
     "output_type": "execute_result"
    }
   ],
   "source": [
    "random_forest = RandomForestClassifier(n_estimators=50)\n",
    "random_forest.fit(X_train, y_train)\n",
    "Y_pred_5= random_forest.predict(X_test)\n",
    "acc_rf = random_forest.score(X_train, y_train) * 100\n",
    "acc_rf"
   ]
  },
  {
   "cell_type": "code",
   "execution_count": 36,
   "metadata": {
    "execution": {
     "iopub.execute_input": "2021-12-05T19:11:03.047289Z",
     "iopub.status.busy": "2021-12-05T19:11:03.046965Z",
     "iopub.status.idle": "2021-12-05T19:11:03.145306Z",
     "shell.execute_reply": "2021-12-05T19:11:03.144318Z",
     "shell.execute_reply.started": "2021-12-05T19:11:03.047208Z"
    }
   },
   "outputs": [
    {
     "data": {
      "text/plain": [
       "80.583613916947243"
      ]
     },
     "execution_count": 36,
     "metadata": {},
     "output_type": "execute_result"
    }
   ],
   "source": [
    "ada_boost = AdaBoostClassifier()\n",
    "ada_boost.fit(X_train, y_train)\n",
    "Y_pred_6 = ada_boost.predict(X_test)\n",
    "acc_rf = ada_boost.score(X_train, y_train) * 100\n",
    "acc_rf"
   ]
  },
  {
   "cell_type": "code",
   "execution_count": 37,
   "metadata": {
    "execution": {
     "iopub.execute_input": "2021-12-05T19:11:03.799608Z",
     "iopub.status.busy": "2021-12-05T19:11:03.799320Z",
     "iopub.status.idle": "2021-12-05T19:11:03.906231Z",
     "shell.execute_reply": "2021-12-05T19:11:03.905334Z",
     "shell.execute_reply.started": "2021-12-05T19:11:03.799566Z"
    }
   },
   "outputs": [
    {
     "data": {
      "text/plain": [
       "84.960718294051631"
      ]
     },
     "execution_count": 37,
     "metadata": {},
     "output_type": "execute_result"
    }
   ],
   "source": [
    "grad_boost = GradientBoostingClassifier()\n",
    "grad_boost.fit(X_train, y_train)\n",
    "Y_pred_7 = grad_boost.predict(X_test)\n",
    "acc_rf = grad_boost.score(X_train, y_train) * 100\n",
    "acc_rf"
   ]
  },
  {
   "cell_type": "code",
   "execution_count": 38,
   "metadata": {
    "execution": {
     "iopub.execute_input": "2021-12-05T19:11:05.073612Z",
     "iopub.status.busy": "2021-12-05T19:11:05.073285Z",
     "iopub.status.idle": "2021-12-05T19:11:05.104549Z",
     "shell.execute_reply": "2021-12-05T19:11:05.103543Z",
     "shell.execute_reply.started": "2021-12-05T19:11:05.073558Z"
    }
   },
   "outputs": [
    {
     "data": {
      "text/plain": [
       "89.001122334455658"
      ]
     },
     "execution_count": 38,
     "metadata": {},
     "output_type": "execute_result"
    }
   ],
   "source": [
    "extra_trees = ExtraTreesClassifier()\n",
    "extra_trees.fit(X_train, y_train)\n",
    "Y_pred_8 = extra_trees.predict(X_test)\n",
    "acc_et = extra_trees.score(X_train, y_train) * 100\n",
    "acc_et"
   ]
  },
  {
   "cell_type": "markdown",
   "metadata": {},
   "source": [
    "Best score: DecisionTreeClassifier/RandomForest/ExtraTreesClassifier"
   ]
  },
  {
   "cell_type": "markdown",
   "metadata": {},
   "source": [
    "**Final Model: ExtraTreesClassifier**\n",
    "\n",
    "Overall best performer was a tie between DecisionTreeClassifier/RandomForest/ExtraTreesClassifier, has 85% accuracy. Will choose ExtraTreesClassifier for remaining analysis."
   ]
  },
  {
   "cell_type": "code",
   "execution_count": 39,
   "metadata": {
    "execution": {
     "iopub.execute_input": "2021-12-05T19:11:10.823707Z",
     "iopub.status.busy": "2021-12-05T19:11:10.823396Z",
     "iopub.status.idle": "2021-12-05T19:11:10.837137Z",
     "shell.execute_reply": "2021-12-05T19:11:10.835968Z",
     "shell.execute_reply.started": "2021-12-05T19:11:10.823653Z"
    }
   },
   "outputs": [
    {
     "name": "stdout",
     "output_type": "stream",
     "text": [
      "7  components describe  .99 % of the variance\n"
     ]
    }
   ],
   "source": [
    "# Minimum percentage of variance we want to be described by the resulting transformed components\n",
    "variance_pct = .99\n",
    "\n",
    "# Create PCA object\n",
    "pca = PCA(n_components=variance_pct)\n",
    "\n",
    "# Transform the initial features\n",
    "X_transformed = pca.fit_transform(X_train, y_train)\n",
    "\n",
    "# Create a data frame from the PCA'd data\n",
    "pcaDataFrame = pd.DataFrame(X_transformed)\n",
    "\n",
    "print(pcaDataFrame.shape[1], \" components describe \", str(variance_pct)[1:], \"% of the variance\")"
   ]
  },
  {
   "cell_type": "code",
   "execution_count": 40,
   "metadata": {
    "execution": {
     "iopub.execute_input": "2021-12-05T19:11:11.485496Z",
     "iopub.status.busy": "2021-12-05T19:11:11.484762Z",
     "iopub.status.idle": "2021-12-05T19:11:13.546085Z",
     "shell.execute_reply": "2021-12-05T19:11:13.545200Z",
     "shell.execute_reply.started": "2021-12-05T19:11:11.485430Z"
    }
   },
   "outputs": [
    {
     "data": {
      "text/plain": [
       "GridSearchCV(cv=None, error_score='raise-deprecating',\n",
       "       estimator=ExtraTreesClassifier(bootstrap=False, class_weight=None, criterion='gini',\n",
       "           max_depth=None, max_features='auto', max_leaf_nodes=None,\n",
       "           min_impurity_decrease=0.0, min_impurity_split=None,\n",
       "           min_samples_leaf=1, min_samples_split=2,\n",
       "           min_weight_fraction_leaf=0.0, n_estimators=10, n_jobs=1,\n",
       "           oob_score=False, random_state=None, verbose=0, warm_start=False),\n",
       "       fit_params=None, iid='warn', n_jobs=1,\n",
       "       param_grid={'max_features': ('auto', 'sqrt', 'log2'), 'max_depth': [1, 100], 'min_samples_split': [2, 100], 'min_samples_leaf': [1, 100], 'min_weight_fraction_leaf': [0, 0.5]},\n",
       "       pre_dispatch='2*n_jobs', refit=True, return_train_score='warn',\n",
       "       scoring=None, verbose=0)"
      ]
     },
     "execution_count": 40,
     "metadata": {},
     "output_type": "execute_result"
    }
   ],
   "source": [
    "from sklearn import tree\n",
    "from sklearn.model_selection import GridSearchCV\n",
    "model = ExtraTreesClassifier()\n",
    "parameters = {'max_features': ('auto', 'sqrt', 'log2'), 'max_depth':[1,100], 'min_samples_split':[2,100], 'min_samples_leaf': [1,100], 'min_weight_fraction_leaf': [0,0.5]}\n",
    "clf = GridSearchCV(model, parameters)\n",
    "clf.fit(X_train, y_train)"
   ]
  },
  {
   "cell_type": "code",
   "execution_count": 44,
   "metadata": {
    "execution": {
     "iopub.execute_input": "2021-12-05T19:11:20.391166Z",
     "iopub.status.busy": "2021-12-05T19:11:20.390553Z",
     "iopub.status.idle": "2021-12-05T19:11:20.402264Z",
     "shell.execute_reply": "2021-12-05T19:11:20.401376Z",
     "shell.execute_reply.started": "2021-12-05T19:11:20.391117Z"
    }
   },
   "outputs": [
    {
     "data": {
      "text/plain": [
       "89.001122334455658"
      ]
     },
     "execution_count": 44,
     "metadata": {},
     "output_type": "execute_result"
    }
   ],
   "source": [
    "clf.score(X_train, y_train)* 100"
   ]
  },
  {
   "cell_type": "code",
   "execution_count": 45,
   "metadata": {
    "execution": {
     "iopub.execute_input": "2021-12-05T19:11:21.440814Z",
     "iopub.status.busy": "2021-12-05T19:11:21.440439Z",
     "iopub.status.idle": "2021-12-05T19:11:21.446720Z",
     "shell.execute_reply": "2021-12-05T19:11:21.445876Z",
     "shell.execute_reply.started": "2021-12-05T19:11:21.440718Z"
    }
   },
   "outputs": [
    {
     "data": {
      "text/plain": [
       "{'max_depth': 100,\n",
       " 'max_features': 'sqrt',\n",
       " 'min_samples_leaf': 1,\n",
       " 'min_samples_split': 2,\n",
       " 'min_weight_fraction_leaf': 0}"
      ]
     },
     "execution_count": 45,
     "metadata": {},
     "output_type": "execute_result"
    }
   ],
   "source": [
    "clf.best_params_"
   ]
  },
  {
   "cell_type": "code",
   "execution_count": 46,
   "metadata": {
    "execution": {
     "iopub.execute_input": "2021-12-05T19:11:22.688974Z",
     "iopub.status.busy": "2021-12-05T19:11:22.688293Z",
     "iopub.status.idle": "2021-12-05T19:11:22.709980Z",
     "shell.execute_reply": "2021-12-05T19:11:22.709085Z",
     "shell.execute_reply.started": "2021-12-05T19:11:22.688926Z"
    }
   },
   "outputs": [
    {
     "data": {
      "text/plain": [
       "ExtraTreesClassifier(bootstrap=False, class_weight=None, criterion='gini',\n",
       "           max_depth=100, max_features='sqrt', max_leaf_nodes=None,\n",
       "           min_impurity_decrease=0.0, min_impurity_split=None,\n",
       "           min_samples_leaf=1, min_samples_split=2,\n",
       "           min_weight_fraction_leaf=0, n_estimators=10, n_jobs=1,\n",
       "           oob_score=False, random_state=None, verbose=0, warm_start=False)"
      ]
     },
     "execution_count": 46,
     "metadata": {},
     "output_type": "execute_result"
    }
   ],
   "source": [
    "model = ExtraTreesClassifier(max_depth=100,max_features='sqrt',min_samples_leaf=1,min_samples_split=2,min_weight_fraction_leaf=0)\n",
    "model.fit(X_train, y_train)"
   ]
  },
  {
   "cell_type": "code",
   "execution_count": 47,
   "metadata": {
    "execution": {
     "iopub.execute_input": "2021-12-05T19:11:31.851930Z",
     "iopub.status.busy": "2021-12-05T19:11:31.851595Z",
     "iopub.status.idle": "2021-12-05T19:11:31.866590Z",
     "shell.execute_reply": "2021-12-05T19:11:31.865772Z",
     "shell.execute_reply.started": "2021-12-05T19:11:31.851873Z"
    }
   },
   "outputs": [
    {
     "data": {
      "text/plain": [
       "89.001122334455658"
      ]
     },
     "execution_count": 47,
     "metadata": {},
     "output_type": "execute_result"
    }
   ],
   "source": [
    "# make prediction\n",
    "y_predict = model.predict(X_test)\n",
    "model.score(X_train, y_train) * 100"
   ]
  },
  {
   "cell_type": "code",
   "execution_count": 48,
   "metadata": {
    "execution": {
     "iopub.execute_input": "2021-12-05T19:11:33.062845Z",
     "iopub.status.busy": "2021-12-05T19:11:33.062215Z",
     "iopub.status.idle": "2021-12-05T19:11:33.243452Z",
     "shell.execute_reply": "2021-12-05T19:11:33.242757Z",
     "shell.execute_reply.started": "2021-12-05T19:11:33.062758Z"
    }
   },
   "outputs": [
    {
     "data": {
      "image/png": "[encoded data removed]",
      "text/plain": [
       "<matplotlib.figure.Figure at 0x7f54589a6da0>"
      ]
     },
     "metadata": {},
     "output_type": "display_data"
    }
   ],
   "source": [
    "# Feature Importance\n",
    "\n",
    "plt.figure(figsize=(12,6))\n",
    "plt.bar(range(len(features)), model.feature_importances_)\n",
    "plt.xticks(range(len(features)), features, rotation =90)\n",
    "plt.ylabel('Feature Importance')\n",
    "plt.title('ExtraTreesClassifier Feature Importance')\n",
    "plt.show()"
   ]
  },
  {
   "cell_type": "code",
   "execution_count": 49,
   "metadata": {
    "execution": {
     "iopub.execute_input": "2021-12-05T19:11:35.602972Z",
     "iopub.status.busy": "2021-12-05T19:11:35.602351Z",
     "iopub.status.idle": "2021-12-05T19:11:35.820217Z",
     "shell.execute_reply": "2021-12-05T19:11:35.819237Z",
     "shell.execute_reply.started": "2021-12-05T19:11:35.602905Z"
    }
   },
   "outputs": [
    {
     "data": {
      "image/png": "[encoded data removed]",
      "text/plain": [
       "<matplotlib.figure.Figure at 0x7f545898fa90>"
      ]
     },
     "metadata": {},
     "output_type": "display_data"
    }
   ],
   "source": [
    "from sklearn.preprocessing import StandardScaler\n",
    "\n",
    "X_transformed = StandardScaler().fit_transform(X_transformed)\n",
    "\n",
    "died1 = X_transformed[y_train[\"Survived\"] == 0]\n",
    "live1 = X_transformed[y_train[\"Survived\"] == 1]\n",
    "comp =[0,1]\n",
    "\n",
    "fig = plt.figure(figsize = (12,8))\n",
    "plt.scatter(died1[:,0].reshape(1,-1), died1[:,1].reshape(1,-1), c = 'red', label = 'Dead', alpha = 0.5)\n",
    "plt.scatter(live1[:,0].reshape(1,-1), live1[:,1].reshape(1,-1), c = 'green', label = 'Survived', alpha = 0.5)\n",
    "plt.title('PCA: Linear Seperability')\n",
    "plt.legend(['Dead', 'Alive'])\n",
    "\n",
    "plt.show()"
   ]
  },
  {
   "cell_type": "code",
   "execution_count": 50,
   "metadata": {
    "execution": {
     "iopub.execute_input": "2021-12-05T19:11:37.217642Z",
     "iopub.status.busy": "2021-12-05T19:11:37.217020Z",
     "iopub.status.idle": "2021-12-05T19:11:37.602897Z",
     "shell.execute_reply": "2021-12-05T19:11:37.602102Z",
     "shell.execute_reply.started": "2021-12-05T19:11:37.217573Z"
    }
   },
   "outputs": [
    {
     "data": {
      "image/png": "[encoded data removed]",
      "text/plain": [
       "<matplotlib.figure.Figure at 0x7f54589c3a90>"
      ]
     },
     "metadata": {},
     "output_type": "display_data"
    }
   ],
   "source": [
    "from mpl_toolkits.mplot3d import Axes3D\n",
    "\n",
    "\n",
    "died = X_transformed[y_train[\"Survived\"] == 0]\n",
    "live = X_transformed[y_train[\"Survived\"] == 1]\n",
    "comp =[0,1]\n",
    "\n",
    "fig = plt.figure(figsize = (12,8))\n",
    "ax = fig.add_subplot(111, projection='3d', )\n",
    "ax.scatter(died[:,0].reshape(1,-1), died[:,1].reshape(1,-1),died[:,2].reshape(1,-1), c = 'red', label = 'Dead', alpha = 0.5)\n",
    "ax.scatter(live[:,0].reshape(1,-1), live[:,1].reshape(1,-1),live[:,2].reshape(1,-1), c = 'green', label = 'Survived', alpha = 0.5)\n",
    "plt.title('PCA: Linear Seperability')\n",
    "plt.legend(['Dead', 'Alive'])\n",
    "plt.tight_layout()\n",
    "\n",
    "plt.show()"
   ]
  },
  {
   "cell_type": "markdown",
   "metadata": {},
   "source": [
    "**Conclusions & Comparison**\n",
    "\n",
    "Comparing to analysis in https://www.kaggle.com/arthurtok/introduction-to-ensembling-stacking-in-python\n",
    "\n",
    "Similar to this notebook, I added missing values for the features with null values in the same ways. However, I did not breakup the name into different components to do an analysis by title, nor did I do an analysis of cabins, tickets, or different family size pairings.\n",
    "\n",
    "So when comparing my heatmap to the notebook's Pearson Correlation heatmap, mine has fewer features. For example, the most correlated features in mine are SibSp & Parch, whereas in the example notebook, it is Parch & Family_Size, while my least correlated are Pclass & Fare, and the example notebook's is Pclass & Has_Cabin.\n",
    "\n"
   ]
  },
  {
   "cell_type": "code",
   "execution_count": 51,
   "metadata": {
    "execution": {
     "iopub.execute_input": "2021-12-05T19:11:39.117915Z",
     "iopub.status.busy": "2021-12-05T19:11:39.117332Z",
     "iopub.status.idle": "2021-12-05T19:11:39.554628Z",
     "shell.execute_reply": "2021-12-05T19:11:39.553685Z",
     "shell.execute_reply.started": "2021-12-05T19:11:39.117597Z"
    }
   },
   "outputs": [
    {
     "data": {
      "text/plain": [
       "<matplotlib.axes._subplots.AxesSubplot at 0x7f545a257c18>"
      ]
     },
     "execution_count": 51,
     "metadata": {},
     "output_type": "execute_result"
    },
    {
     "data": {
      "image/png": "[encoded data removed]",
      "text/plain": [
       "<matplotlib.figure.Figure at 0x7f545897a588>"
      ]
     },
     "metadata": {},
     "output_type": "display_data"
    }
   ],
   "source": [
    "colormap = plt.cm.RdBu\n",
    "plt.figure(figsize=(14,12))\n",
    "plt.title('Pearson Correlation of Features', y=1.05, size=15)\n",
    "sns.heatmap(X_train.astype(float).corr(),linewidths=0.1,vmax=1.0, \n",
    "            square=True, cmap=colormap, linecolor='white', annot=True)"
   ]
  },
  {
   "cell_type": "markdown",
   "metadata": {},
   "source": [
    "The example notebook used the RandomForest, ExtraTrees, AdaBoost, and GradientBoost classifiers, while I used these plus KNeighborsClassifier, DecisionTree, LogisticRegression, and SVC to test.\n",
    "\n",
    "Compared to the example notebook, their top 3 most import features when using the ExtraTreesClassifier were 'Sex', 'FamilySize', and 'Pclass' respectively, while mine were Fare, Age, and Parch, which is interesting, but again I used less features.\n",
    "\n",
    "The approaches to these two analyses are very different and yield different feature importances. My notebook would benefit from additional analyses, creating additional features such as 'Family Size' and 'Is Alone' and re-comparing. Family Size would require breaking down Age into 'child' values and combining the SibSp and Parch values."
   ]
  },
  {
   "cell_type": "code",
   "execution_count": null,
   "metadata": {},
   "outputs": [],
   "source": []
  }
 ],
 "metadata": {
  "kernelspec": {
   "display_name": "Python 3",
   "language": "python",
   "name": "python3"
  },
  "language_info": {
   "codemirror_mode": {
    "name": "ipython",
    "version": 3
   },
   "file_extension": ".py",
   "mimetype": "text/x-python",
   "name": "python",
   "nbconvert_exporter": "python",
   "pygments_lexer": "ipython3",
   "version": "3.8.8"
  }
 },
 "nbformat": 4,
 "nbformat_minor": 4
}
